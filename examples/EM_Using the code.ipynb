{
 "cells": [
  {
   "cell_type": "markdown",
   "metadata": {},
   "source": [
    "# Using the `database_wide_monte_carlo` code to generate samples\n",
    "\n",
    "Pascal Lesage, CIRAIG  \n",
    "March 2017"
   ]
  },
  {
   "cell_type": "markdown",
   "metadata": {},
   "source": [
    "For best viewing pleasure, use the `Table of Contents (2)` [Notebook extension](http://jupyter-contrib-nbextensions.readthedocs.io/en/latest/nbextensions/toc2/README.html)."
   ]
  },
  {
   "cell_type": "markdown",
   "metadata": {},
   "source": [
    "-----------"
   ]
  },
  {
   "cell_type": "markdown",
   "metadata": {
    "toc": true
   },
   "source": [
    "<h1>Table of Contents<span class=\"tocSkip\"></span></h1>\n",
    "<div class=\"toc\"><ul class=\"toc-item\"><li><span><a href=\"#Introduction\" data-toc-modified-id=\"Introduction-1\"><span class=\"toc-item-num\">1&nbsp;&nbsp;</span>Introduction</a></span></li><li><span><a href=\"#Summary-of-steps\" data-toc-modified-id=\"Summary-of-steps-2\"><span class=\"toc-item-num\">2&nbsp;&nbsp;</span>Summary of steps</a></span></li><li><span><a href=\"#More-details\" data-toc-modified-id=\"More-details-3\"><span class=\"toc-item-num\">3&nbsp;&nbsp;</span>More details</a></span><ul class=\"toc-item\"><li><span><a href=\"#Installing-Brightway2\" data-toc-modified-id=\"Installing-Brightway2-3.1\"><span class=\"toc-item-num\">3.1&nbsp;&nbsp;</span>Installing <code>Brightway2</code></a></span></li><li><span><a href=\"#Setting-up\" data-toc-modified-id=\"Setting-up-3.2\"><span class=\"toc-item-num\">3.2&nbsp;&nbsp;</span>Setting up</a></span></li><li><span><a href=\"#Generating-the-samples\" data-toc-modified-id=\"Generating-the-samples-3.3\"><span class=\"toc-item-num\">3.3&nbsp;&nbsp;</span>Generating the samples</a></span><ul class=\"toc-item\"><li><span><a href=\"#General-description\" data-toc-modified-id=\"General-description-3.3.1\"><span class=\"toc-item-num\">3.3.1&nbsp;&nbsp;</span>General description</a></span></li><li><span><a href=\"#Organization-of-the-sampling:-base_directory,-database-directory,-jobs-directory,-jobs,-iterations\" data-toc-modified-id=\"Organization-of-the-sampling:-base_directory,-database-directory,-jobs-directory,-jobs,-iterations-3.3.2\"><span class=\"toc-item-num\">3.3.2&nbsp;&nbsp;</span>Organization of the sampling: base_directory, database directory, jobs directory, jobs, iterations</a></span></li><li><span><a href=\"#Running-the-code\" data-toc-modified-id=\"Running-the-code-3.3.3\"><span class=\"toc-item-num\">3.3.3&nbsp;&nbsp;</span>Running the code</a></span></li><li><span><a href=\"#Checking-out-the-output:\" data-toc-modified-id=\"Checking-out-the-output:-3.3.4\"><span class=\"toc-item-num\">3.3.4&nbsp;&nbsp;</span>Checking out the output:</a></span></li></ul></li><li><span><a href=\"#Cleaning-up-the-samples\" data-toc-modified-id=\"Cleaning-up-the-samples-3.4\"><span class=\"toc-item-num\">3.4&nbsp;&nbsp;</span>Cleaning up the samples</a></span></li><li><span><a href=\"#Concatenating-results-within-jobs\" data-toc-modified-id=\"Concatenating-results-within-jobs-3.5\"><span class=\"toc-item-num\">3.5&nbsp;&nbsp;</span>Concatenating results within jobs</a></span></li><li><span><a href=\"#Concatenating-results-across-jobs\" data-toc-modified-id=\"Concatenating-results-across-jobs-3.6\"><span class=\"toc-item-num\">3.6&nbsp;&nbsp;</span>Concatenating results across jobs</a></span></li><li><span><a href=\"#Generating-LCIA-score-arrays\" data-toc-modified-id=\"Generating-LCIA-score-arrays-3.7\"><span class=\"toc-item-num\">3.7&nbsp;&nbsp;</span>Generating LCIA score arrays</a></span></li><li><span><a href=\"#Final-structure\" data-toc-modified-id=\"Final-structure-3.8\"><span class=\"toc-item-num\">3.8&nbsp;&nbsp;</span>Final structure</a></span></li></ul></li><li><span><a href=\"#A-note-on-size\" data-toc-modified-id=\"A-note-on-size-4\"><span class=\"toc-item-num\">4&nbsp;&nbsp;</span>A note on size</a></span></li></ul></div>"
   ]
  },
  {
   "cell_type": "markdown",
   "metadata": {},
   "source": [
    "## Introduction"
   ]
  },
  {
   "cell_type": "markdown",
   "metadata": {},
   "source": [
    "The code in the `DatabaseWideMonteCarlo` package can be used to generate precalculated sample arrays for a whole LCI database. The code can be used to calculate arrays for:  \n",
    "  - The technosphere matrix $\\mathbf{A}$ and the elementary flow matrix $\\mathbf{B}$ (called the biosphere matrix in Brightway2)\n",
    "  - Supply arrays $\\mathbf{s}$ for unit demands of each activity (i.e. how much each unit process needs to produce to meet a unit of demand for any activity in the database)  \n",
    "  - Inventory arrays $\\mathbf{g}$ for unit demands of each activity, functionaly equivalent to aggregated datasets  \n",
    "  - LCIA score arrays $\\mathbf{h}$ for unit demands of each activity  \n",
    "  \n",
    "For any of these, the principle is the same:  \n",
    "  - each **row** of the precalculated sample arrays represents a specific object (an input to a given activity, an emission to air, an LCIA score)  \n",
    "  - each **column** refers to a given Monte Carlo iteration. All arrays have the same number of columns, and each column in any of the arrays was generated with the same Monte Carlo iteration, i.e. with the same initial data in the technosphere and biosphere matrix. \n",
    "  \n",
    "These can then be reused for efficient uncertainty analyses in LCA."
   ]
  },
  {
   "cell_type": "markdown",
   "metadata": {},
   "source": [
    "## Summary of steps"
   ]
  },
  {
   "cell_type": "markdown",
   "metadata": {},
   "source": [
    "The steps, detailed below, to produce the arrays are as follows:  \n",
    "\n",
    "The steps to a typical usage are:  \n",
    "\n",
    "- [Install](https://docs.brightwaylca.org/installation.html) the [Brightway2 life cycle assessment framework](http://brightwaylca.org/).   \n",
    "\n",
    "\n",
    "- Set up the Brightway project and import the database. This can be done by running the `setup.py` file. The setup file assumes you are importing ecoSpold2 files. For another type of database, modify `setup.py` so it uses another `importer`, or simply setup the Brightway2 environment yourself. If you already have a project with the target LCI database, this step is skipped.\n",
    "\n",
    "  ``python setup.py --project_name=my_project, --ecospold_dirpath=my_path_to_folder_with_ecospold2_files --database_name=db'`\n",
    "\n",
    "\n",
    "- Dependently generate individual samples using the `sample_generation.py` file. This process can be halted and restarted, can be distributed across many computers, and relies on multiprocessing to speed up Monte carlo simulations. The results generated in one batch are found in `job` directories. \n",
    "\n",
    "  ``python sample_generation.py --project_name=my_project --database_name=db --iterations=1000 --cpus=8 --base_dir=path_to_my_folder --include_inventory=True --include_supply=True --include_matrices=True``\n",
    "\n",
    "\n",
    "- Sanitize results using `clean_jobs.py`. This will delete jobs or iterations within a job that are missing information. \n",
    "\n",
    "  ``python clean_jobs.py --base_dir=path_to_my_folder --database_name=db --database_size=14889 --include_inventory=True --include_matrices=True --include_supply=True``\n",
    "\n",
    "\n",
    "- Concatenate results within a job with `concatenate_within_jobs.py`. Uses multiprocessing to speed up process, but is nonetheless a **very** lengthy task.\n",
    "\n",
    "  ``python concatenate_within_jobs.py --base_dir=path_to_my_folder --database_name=db --include_inventory=True --include_matrices=True --include_supply=True --cpus=8 --delete_raw_files=True``\n",
    "\n",
    "\n",
    "- Concatenate results across jobs using `concatenate_across_jobs.py`. At this point, results can include (depending on what arguments were passed to the former functions) **A** and **B** matrix results, supply arrays **s**, cradle-to-gate inventories **g**. By design, they all have the same number of columns, and the i*th* column in any array is based on the same Monte Carlo iteration.  \n",
    "\n",
    "  ``python across_jobs.py --base_dir=path_to_my_folder --database_name=db --project=my_project --include_inventory=True --include_matrices=True --include_supply=True --cpus=8 --delete_temps=True``\n",
    "\n",
    "\n",
    "- Generate LCIA scores from the LCI results using `calculate_LCIA.py`. LCIA score arrays will be generated for all methods specified in a list saved to base_dir/database_name/results/reference_files/methods.pickle, or all methods implemented in Brightway2 if file doesn't exist.  \n",
    "\n",
    "  ``python calculate_LCIA.py --base_dir=path_to_my_folder --database_name=db --project=my_project --cpus=8``  \n",
    "  \n",
    "What you end up with at the end of these steps depends on the arguments you have used (especially the `delete_x` and the `include_y`) arguments. See other notebooks in this repo to see two examples of how these can be used."
   ]
  },
  {
   "cell_type": "markdown",
   "metadata": {},
   "source": [
    "## More details"
   ]
  },
  {
   "cell_type": "markdown",
   "metadata": {},
   "source": [
    "Following the recipe above is sufficient to use the package. If you want more details about what each file does, then read on."
   ]
  },
  {
   "cell_type": "markdown",
   "metadata": {},
   "source": [
    "### Installing `Brightway2`"
   ]
  },
  {
   "cell_type": "markdown",
   "metadata": {},
   "source": [
    "The code to generate of pre-calculated Monte Carlo samples for the *ecoinvent v3.4 cut-off by classification* database uses the Python-based open-source [Brightway2 framework](https://brightwaylca.org/). Brightway2 is specifically developped for developping LCA programs: it has optimized calculation routines, many LCA-related functions and allows access to many intermediate objects in the LCA calculation chain.  \n",
    "There is a series of online tutorial Notebooks available [here](https://github.com/PoutineAndRosti/Brightway-Seminar-2017) for learning the basics of using Brightway2."
   ]
  },
  {
   "cell_type": "markdown",
   "metadata": {},
   "source": [
    "The process of installing Brightway2 are detailed [here](https://docs.brightwaylca.org/installation.html). An installation of Brightway2 is required to use this package."
   ]
  },
  {
   "cell_type": "markdown",
   "metadata": {},
   "source": [
    "### Setting up"
   ]
  },
  {
   "cell_type": "markdown",
   "metadata": {},
   "source": [
    "To get started, you need to have the following:  \n",
    "- A Brightway project with the `biosphere3` database (which contains information about elementary flows) and LCIA methods  \n",
    "- An LCI database.  \n",
    "\n",
    "The `setup.py` file simply combines the sequence of functions required to have these objects ready. \n",
    "\n",
    "It (and other functions in this package) uses the [`click` library](http://click.pocoo.org/5/) to be able to pass arguments to the python functions directly from the command line.   \n",
    "To run it, simply navigate (`cd`) to the directory where it is stored and run the following command:  \n",
    "\n",
    "`python setup.py --project_name=my_project, --ecospold_dirpath=my_path_to_folder_with_ecospold2_files --database_name=db`  \n",
    "\n",
    "where:  \n",
    "\n",
    "  * **'project_name'** is simply the name of your project. This name can be any string.  \n",
    "  * **'ecospold_dirpath'** is the file path to the folder where the ecoSPold2 files are found. Note that this assumes you are importing an ecoinvent v3.x database. If this is not the case, then change the `setup.py` file to use another [`Importer`](https://bitbucket.org/cmutel/brightway2-io/src/ee2296d41063a0e45e1edfb18ca88f5be7d46999/bw2io/importers/?at=default), or simply pass the series of commands yourself to import the database in your project.  \n",
    "  * **'database_name'** is simply the name the database will have within the project. \n",
    "  \n",
    "**Note**: The `click` library does not handle whitespace well - preferably use project and database names with no whitespace.  "
   ]
  },
  {
   "cell_type": "markdown",
   "metadata": {},
   "source": [
    "**Note on obtaining the ecoSpold files from ecoQuery**\n",
    "A valid ecoinvent licence gives access to the download of the entire database in ecoSpold2 format. \n",
    "These are found on the ecoQuery website, in the \"files\" section. They are zipped using the [7z format](http://www.7-zip.org/).  \n",
    "The ecoSpold2 formats should represent \"Single Output Unit Processes\", which are generated from the \"undefined\" unit processes using a set of linking rules. Linking rules basically state how multifunctional processes are to be dealt with and how suppliers are identified during unit process linking (e.g. average vs. marginal supplier). \n",
    "The ecoinvent Center has three set of rules: \n",
    "- Allocation, cut-off by classification (used in this project)  \n",
    "- Allocation at the point of substitution  \n",
    "- Substitution, consequential, long-term  \n",
    "\n",
    "For more information, see [here](https://www.ecoinvent.org/database/system-models-in-ecoinvent-3/system-models-in-ecoinvent-3.html).  \n",
    "\n",
    "For this example, the ecoinvent v3.4 cut-off by classification database is used."
   ]
  },
  {
   "cell_type": "markdown",
   "metadata": {},
   "source": [
    "For now, let's execute the code directly from within the Notebook using the [`%run` magic command](http://ipython.readthedocs.io/en/stable/interactive/magics.html#magic-run)."
   ]
  },
  {
   "cell_type": "code",
   "execution_count": 1,
   "metadata": {
    "ExecuteTime": {
     "end_time": "2018-03-20T20:37:39.991342Z",
     "start_time": "2018-03-20T20:37:39.987832Z"
    },
    "collapsed": true
   },
   "outputs": [],
   "source": [
    "# Move to directory containing code\n",
    "import os\n",
    "os.chdir(r'C:\\Users\\em398\\OneDrive - University of Bath\\Documents\\GitHub\\database_wide_monte_carlo')"
   ]
  },
  {
   "cell_type": "code",
   "execution_count": 8,
   "metadata": {
    "ExecuteTime": {
     "end_time": "2018-03-20T20:43:54.612207Z",
     "start_time": "2018-03-20T20:37:41.197009Z"
    }
   },
   "outputs": [
    {
     "name": "stderr",
     "output_type": "stream",
     "text": [
      "Usage: setup.py [OPTIONS]\n",
      "Try 'setup.py --help' for help.\n",
      "\n",
      "Error: Got unexpected extra arguments (- University of Bath\\4 Software and Data\\ecoInvent\\Ecospold02 format 3_6\\ecoinvent 3.6_cut-off_ecoSpold02\\datasets'--database_name=ei36cut)\n"
     ]
    },
    {
     "ename": "AssertionError",
     "evalue": "",
     "output_type": "error",
     "traceback": [
      "\u001b[1;31m---------------------------------------------------------------------------\u001b[0m",
      "\u001b[1;31mUsageError\u001b[0m                                Traceback (most recent call last)",
      "File \u001b[1;32mc:\\Users\\em398\\Anaconda3\\envs\\bw2_advLCA\\lib\\site-packages\\click\\core.py:1054\u001b[0m, in \u001b[0;36mBaseCommand.main\u001b[1;34m(self, args, prog_name, complete_var, standalone_mode, windows_expand_args, **extra)\u001b[0m\n\u001b[0;32m   1053\u001b[0m \u001b[39mtry\u001b[39;00m:\n\u001b[1;32m-> 1054\u001b[0m     \u001b[39mwith\u001b[39;00m \u001b[39mself\u001b[39m\u001b[39m.\u001b[39mmake_context(prog_name, args, \u001b[39m*\u001b[39m\u001b[39m*\u001b[39mextra) \u001b[39mas\u001b[39;00m ctx:\n\u001b[0;32m   1055\u001b[0m         rv \u001b[39m=\u001b[39m \u001b[39mself\u001b[39m\u001b[39m.\u001b[39minvoke(ctx)\n",
      "File \u001b[1;32mc:\\Users\\em398\\Anaconda3\\envs\\bw2_advLCA\\lib\\site-packages\\click\\core.py:920\u001b[0m, in \u001b[0;36mBaseCommand.make_context\u001b[1;34m(self, info_name, args, parent, **extra)\u001b[0m\n\u001b[0;32m    919\u001b[0m \u001b[39mwith\u001b[39;00m ctx\u001b[39m.\u001b[39mscope(cleanup\u001b[39m=\u001b[39m\u001b[39mFalse\u001b[39;00m):\n\u001b[1;32m--> 920\u001b[0m     \u001b[39mself\u001b[39;49m\u001b[39m.\u001b[39;49mparse_args(ctx, args)\n\u001b[0;32m    921\u001b[0m \u001b[39mreturn\u001b[39;00m ctx\n",
      "File \u001b[1;32mc:\\Users\\em398\\Anaconda3\\envs\\bw2_advLCA\\lib\\site-packages\\click\\core.py:1381\u001b[0m, in \u001b[0;36mCommand.parse_args\u001b[1;34m(self, ctx, args)\u001b[0m\n\u001b[0;32m   1380\u001b[0m \u001b[39mif\u001b[39;00m args \u001b[39mand\u001b[39;00m \u001b[39mnot\u001b[39;00m ctx\u001b[39m.\u001b[39mallow_extra_args \u001b[39mand\u001b[39;00m \u001b[39mnot\u001b[39;00m ctx\u001b[39m.\u001b[39mresilient_parsing:\n\u001b[1;32m-> 1381\u001b[0m     ctx\u001b[39m.\u001b[39;49mfail(\n\u001b[0;32m   1382\u001b[0m         ngettext(\n\u001b[0;32m   1383\u001b[0m             \u001b[39m\"\u001b[39;49m\u001b[39mGot unexpected extra argument (\u001b[39;49m\u001b[39m{args}\u001b[39;49;00m\u001b[39m)\u001b[39;49m\u001b[39m\"\u001b[39;49m,\n\u001b[0;32m   1384\u001b[0m             \u001b[39m\"\u001b[39;49m\u001b[39mGot unexpected extra arguments (\u001b[39;49m\u001b[39m{args}\u001b[39;49;00m\u001b[39m)\u001b[39;49m\u001b[39m\"\u001b[39;49m,\n\u001b[0;32m   1385\u001b[0m             \u001b[39mlen\u001b[39;49m(args),\n\u001b[0;32m   1386\u001b[0m         )\u001b[39m.\u001b[39;49mformat(args\u001b[39m=\u001b[39;49m\u001b[39m\"\u001b[39;49m\u001b[39m \u001b[39;49m\u001b[39m\"\u001b[39;49m\u001b[39m.\u001b[39;49mjoin(\u001b[39mmap\u001b[39;49m(\u001b[39mstr\u001b[39;49m, args)))\n\u001b[0;32m   1387\u001b[0m     )\n\u001b[0;32m   1389\u001b[0m ctx\u001b[39m.\u001b[39margs \u001b[39m=\u001b[39m args\n",
      "File \u001b[1;32mc:\\Users\\em398\\Anaconda3\\envs\\bw2_advLCA\\lib\\site-packages\\click\\core.py:679\u001b[0m, in \u001b[0;36mContext.fail\u001b[1;34m(self, message)\u001b[0m\n\u001b[0;32m    674\u001b[0m \u001b[39m\"\"\"Aborts the execution of the program with a specific error\u001b[39;00m\n\u001b[0;32m    675\u001b[0m \u001b[39mmessage.\u001b[39;00m\n\u001b[0;32m    676\u001b[0m \n\u001b[0;32m    677\u001b[0m \u001b[39m:param message: the error message to fail with.\u001b[39;00m\n\u001b[0;32m    678\u001b[0m \u001b[39m\"\"\"\u001b[39;00m\n\u001b[1;32m--> 679\u001b[0m \u001b[39mraise\u001b[39;00m UsageError(message, \u001b[39mself\u001b[39m)\n",
      "\u001b[1;31mUsageError\u001b[0m: Got unexpected extra arguments (- University of Bath\\4 Software and Data\\ecoInvent\\Ecospold02 format 3_6\\ecoinvent 3.6_cut-off_ecoSpold02\\datasets'--database_name=ei36cut)",
      "\nDuring handling of the above exception, another exception occurred:\n",
      "\u001b[1;31mSystemExit\u001b[0m                                Traceback (most recent call last)",
      "File \u001b[1;32mc:\\Users\\em398\\Anaconda3\\envs\\bw2_advLCA\\lib\\site-packages\\IPython\\core\\interactiveshell.py:2742\u001b[0m, in \u001b[0;36mInteractiveShell.safe_execfile\u001b[1;34m(self, fname, exit_ignore, raise_exceptions, shell_futures, *where)\u001b[0m\n\u001b[0;32m   2741\u001b[0m     glob, loc \u001b[39m=\u001b[39m (where \u001b[39m+\u001b[39m (\u001b[39mNone\u001b[39;00m, ))[:\u001b[39m2\u001b[39m]\n\u001b[1;32m-> 2742\u001b[0m     py3compat\u001b[39m.\u001b[39;49mexecfile(\n\u001b[0;32m   2743\u001b[0m         fname, glob, loc,\n\u001b[0;32m   2744\u001b[0m         \u001b[39mself\u001b[39;49m\u001b[39m.\u001b[39;49mcompile \u001b[39mif\u001b[39;49;00m shell_futures \u001b[39melse\u001b[39;49;00m \u001b[39mNone\u001b[39;49;00m)\n\u001b[0;32m   2745\u001b[0m \u001b[39mexcept\u001b[39;00m \u001b[39mSystemExit\u001b[39;00m \u001b[39mas\u001b[39;00m status:\n\u001b[0;32m   2746\u001b[0m     \u001b[39m# If the call was made with 0 or None exit status (sys.exit(0)\u001b[39;00m\n\u001b[0;32m   2747\u001b[0m     \u001b[39m# or sys.exit() ), don't bother showing a traceback, as both of\u001b[39;00m\n\u001b[1;32m   (...)\u001b[0m\n\u001b[0;32m   2753\u001b[0m     \u001b[39m# For other exit status, we show the exception unless\u001b[39;00m\n\u001b[0;32m   2754\u001b[0m     \u001b[39m# explicitly silenced, but only in short form.\u001b[39;00m\n",
      "File \u001b[1;32mc:\\Users\\em398\\Anaconda3\\envs\\bw2_advLCA\\lib\\site-packages\\IPython\\utils\\py3compat.py:55\u001b[0m, in \u001b[0;36mexecfile\u001b[1;34m(fname, glob, loc, compiler)\u001b[0m\n\u001b[0;32m     54\u001b[0m compiler \u001b[39m=\u001b[39m compiler \u001b[39mor\u001b[39;00m \u001b[39mcompile\u001b[39m\n\u001b[1;32m---> 55\u001b[0m exec(compiler(f\u001b[39m.\u001b[39;49mread(), fname, \u001b[39m\"\u001b[39;49m\u001b[39mexec\u001b[39;49m\u001b[39m\"\u001b[39;49m), glob, loc)\n",
      "File \u001b[1;32m~\\OneDrive - University of Bath\\Documents\\GitHub\\database_wide_monte_carlo\\setup.py:38\u001b[0m\n\u001b[0;32m     37\u001b[0m __spec__ \u001b[39m=\u001b[39m \u001b[39mNone\u001b[39;00m\n\u001b[1;32m---> 38\u001b[0m setup()\n",
      "File \u001b[1;32mc:\\Users\\em398\\Anaconda3\\envs\\bw2_advLCA\\lib\\site-packages\\click\\core.py:1130\u001b[0m, in \u001b[0;36mBaseCommand.__call__\u001b[1;34m(self, *args, **kwargs)\u001b[0m\n\u001b[0;32m   1129\u001b[0m \u001b[39m\"\"\"Alias for :meth:`main`.\"\"\"\u001b[39;00m\n\u001b[1;32m-> 1130\u001b[0m \u001b[39mreturn\u001b[39;00m \u001b[39mself\u001b[39m\u001b[39m.\u001b[39mmain(\u001b[39m*\u001b[39margs, \u001b[39m*\u001b[39m\u001b[39m*\u001b[39mkwargs)\n",
      "File \u001b[1;32mc:\\Users\\em398\\Anaconda3\\envs\\bw2_advLCA\\lib\\site-packages\\click\\core.py:1073\u001b[0m, in \u001b[0;36mBaseCommand.main\u001b[1;34m(self, args, prog_name, complete_var, standalone_mode, windows_expand_args, **extra)\u001b[0m\n\u001b[0;32m   1072\u001b[0m     e\u001b[39m.\u001b[39mshow()\n\u001b[1;32m-> 1073\u001b[0m     sys\u001b[39m.\u001b[39;49mexit(e\u001b[39m.\u001b[39;49mexit_code)\n\u001b[0;32m   1074\u001b[0m \u001b[39mexcept\u001b[39;00m \u001b[39mOSError\u001b[39;00m \u001b[39mas\u001b[39;00m e:\n",
      "\u001b[1;31mSystemExit\u001b[0m: 2",
      "\nDuring handling of the above exception, another exception occurred:\n",
      "\u001b[1;31mAssertionError\u001b[0m                            Traceback (most recent call last)",
      "Cell \u001b[1;32mIn [8], line 4\u001b[0m\n\u001b[0;32m      1\u001b[0m \u001b[38;5;66;03m# Use the IPython magic %run to run the file from within the Jupyter Notebook\u001b[39;00m\n\u001b[0;32m      2\u001b[0m \u001b[38;5;66;03m# Normally, this would be done from the command line\u001b[39;00m\n\u001b[0;32m      3\u001b[0m \u001b[38;5;66;03m# in an environment where Brightway2 is installed\u001b[39;00m\n\u001b[1;32m----> 4\u001b[0m get_ipython()\u001b[38;5;241m.\u001b[39mrun_line_magic(\u001b[38;5;124m'\u001b[39m\u001b[38;5;124mrun\u001b[39m\u001b[38;5;124m'\u001b[39m, \u001b[38;5;124m\"\u001b[39m\u001b[38;5;124msetup.py --project_name=my_mcs --ecospold_dirpath=\u001b[39m\u001b[38;5;124m'\u001b[39m\u001b[38;5;124mC:\u001b[39m\u001b[38;5;130;01m\\\\\u001b[39;00m\u001b[38;5;124mUsers\u001b[39m\u001b[38;5;130;01m\\\\\u001b[39;00m\u001b[38;5;124mem398\u001b[39m\u001b[38;5;130;01m\\\\\u001b[39;00m\u001b[38;5;124mOneDrive - University of Bath\u001b[39m\u001b[38;5;130;01m\\\\\u001b[39;00m\u001b[38;5;124m4 Software and Data\u001b[39m\u001b[38;5;130;01m\\\\\u001b[39;00m\u001b[38;5;124mecoInvent\u001b[39m\u001b[38;5;130;01m\\\\\u001b[39;00m\u001b[38;5;124mEcospold02 format 3_6\u001b[39m\u001b[38;5;130;01m\\\\\u001b[39;00m\u001b[38;5;124mecoinvent 3.6_cut-off_ecoSpold02\u001b[39m\u001b[38;5;130;01m\\\\\u001b[39;00m\u001b[38;5;124mdatasets\u001b[39m\u001b[38;5;124m'\u001b[39m\u001b[38;5;124m--database_name=ei36cut --overwrite_database=False\u001b[39m\u001b[38;5;124m\"\u001b[39m)\n",
      "File \u001b[1;32mc:\\Users\\em398\\Anaconda3\\envs\\bw2_advLCA\\lib\\site-packages\\IPython\\core\\interactiveshell.py:2309\u001b[0m, in \u001b[0;36mInteractiveShell.run_line_magic\u001b[1;34m(self, magic_name, line, _stack_depth)\u001b[0m\n\u001b[0;32m   2307\u001b[0m     kwargs[\u001b[39m'\u001b[39m\u001b[39mlocal_ns\u001b[39m\u001b[39m'\u001b[39m] \u001b[39m=\u001b[39m \u001b[39mself\u001b[39m\u001b[39m.\u001b[39mget_local_scope(stack_depth)\n\u001b[0;32m   2308\u001b[0m \u001b[39mwith\u001b[39;00m \u001b[39mself\u001b[39m\u001b[39m.\u001b[39mbuiltin_trap:\n\u001b[1;32m-> 2309\u001b[0m     result \u001b[39m=\u001b[39m fn(\u001b[39m*\u001b[39margs, \u001b[39m*\u001b[39m\u001b[39m*\u001b[39mkwargs)\n\u001b[0;32m   2310\u001b[0m \u001b[39mreturn\u001b[39;00m result\n",
      "File \u001b[1;32mc:\\Users\\em398\\Anaconda3\\envs\\bw2_advLCA\\lib\\site-packages\\IPython\\core\\magics\\execution.py:829\u001b[0m, in \u001b[0;36mExecutionMagics.run\u001b[1;34m(self, parameter_s, runner, file_finder)\u001b[0m\n\u001b[0;32m    826\u001b[0m             \u001b[39mself\u001b[39m\u001b[39m.\u001b[39m_run_with_timing(run, nruns)\n\u001b[0;32m    827\u001b[0m         \u001b[39melse\u001b[39;00m:\n\u001b[0;32m    828\u001b[0m             \u001b[39m# regular execution\u001b[39;00m\n\u001b[1;32m--> 829\u001b[0m             run()\n\u001b[0;32m    831\u001b[0m \u001b[39mif\u001b[39;00m \u001b[39m'\u001b[39m\u001b[39mi\u001b[39m\u001b[39m'\u001b[39m \u001b[39min\u001b[39;00m opts:\n\u001b[0;32m    832\u001b[0m     \u001b[39mself\u001b[39m\u001b[39m.\u001b[39mshell\u001b[39m.\u001b[39muser_ns[\u001b[39m'\u001b[39m\u001b[39m__name__\u001b[39m\u001b[39m'\u001b[39m] \u001b[39m=\u001b[39m __name__save\n",
      "File \u001b[1;32mc:\\Users\\em398\\Anaconda3\\envs\\bw2_advLCA\\lib\\site-packages\\IPython\\core\\magics\\execution.py:814\u001b[0m, in \u001b[0;36mExecutionMagics.run.<locals>.run\u001b[1;34m()\u001b[0m\n\u001b[0;32m    813\u001b[0m \u001b[39mdef\u001b[39;00m \u001b[39mrun\u001b[39m():\n\u001b[1;32m--> 814\u001b[0m     runner(filename, prog_ns, prog_ns,\n\u001b[0;32m    815\u001b[0m             exit_ignore\u001b[39m=\u001b[39;49mexit_ignore)\n",
      "File \u001b[1;32mc:\\Users\\em398\\Anaconda3\\envs\\bw2_advLCA\\lib\\site-packages\\IPython\\core\\interactiveshell.py:2759\u001b[0m, in \u001b[0;36mInteractiveShell.safe_execfile\u001b[1;34m(self, fname, exit_ignore, raise_exceptions, shell_futures, *where)\u001b[0m\n\u001b[0;32m   2757\u001b[0m             \u001b[39mraise\u001b[39;00m\n\u001b[0;32m   2758\u001b[0m         \u001b[39mif\u001b[39;00m \u001b[39mnot\u001b[39;00m exit_ignore:\n\u001b[1;32m-> 2759\u001b[0m             \u001b[39mself\u001b[39;49m\u001b[39m.\u001b[39;49mshowtraceback(exception_only\u001b[39m=\u001b[39;49m\u001b[39mTrue\u001b[39;49;00m)\n\u001b[0;32m   2760\u001b[0m \u001b[39mexcept\u001b[39;00m:\n\u001b[0;32m   2761\u001b[0m     \u001b[39mif\u001b[39;00m raise_exceptions:\n",
      "File \u001b[1;32mc:\\Users\\em398\\Anaconda3\\envs\\bw2_advLCA\\lib\\site-packages\\IPython\\core\\interactiveshell.py:1987\u001b[0m, in \u001b[0;36mInteractiveShell.showtraceback\u001b[1;34m(self, exc_tuple, filename, tb_offset, exception_only, running_compiled_code)\u001b[0m\n\u001b[0;32m   1984\u001b[0m \u001b[39mif\u001b[39;00m exception_only:\n\u001b[0;32m   1985\u001b[0m     stb \u001b[39m=\u001b[39m [\u001b[39m'\u001b[39m\u001b[39mAn exception has occurred, use \u001b[39m\u001b[39m%\u001b[39m\u001b[39mtb to see \u001b[39m\u001b[39m'\u001b[39m\n\u001b[0;32m   1986\u001b[0m            \u001b[39m'\u001b[39m\u001b[39mthe full traceback.\u001b[39m\u001b[39m\\n\u001b[39;00m\u001b[39m'\u001b[39m]\n\u001b[1;32m-> 1987\u001b[0m     stb\u001b[39m.\u001b[39mextend(\u001b[39mself\u001b[39;49m\u001b[39m.\u001b[39;49mInteractiveTB\u001b[39m.\u001b[39;49mget_exception_only(etype,\n\u001b[0;32m   1988\u001b[0m                                                      value))\n\u001b[0;32m   1989\u001b[0m \u001b[39melse\u001b[39;00m:\n\u001b[0;32m   1990\u001b[0m     \u001b[39mtry\u001b[39;00m:\n\u001b[0;32m   1991\u001b[0m         \u001b[39m# Exception classes can customise their traceback - we\u001b[39;00m\n\u001b[0;32m   1992\u001b[0m         \u001b[39m# use this in IPython.parallel for exceptions occurring\u001b[39;00m\n\u001b[0;32m   1993\u001b[0m         \u001b[39m# in the engines. This should return a list of strings.\u001b[39;00m\n",
      "File \u001b[1;32mc:\\Users\\em398\\Anaconda3\\envs\\bw2_advLCA\\lib\\site-packages\\IPython\\core\\ultratb.py:579\u001b[0m, in \u001b[0;36mListTB.get_exception_only\u001b[1;34m(self, etype, value)\u001b[0m\n\u001b[0;32m    571\u001b[0m \u001b[39mdef\u001b[39;00m \u001b[39mget_exception_only\u001b[39m(\u001b[39mself\u001b[39m, etype, value):\n\u001b[0;32m    572\u001b[0m     \u001b[39m\"\"\"Only print the exception type and message, without a traceback.\u001b[39;00m\n\u001b[0;32m    573\u001b[0m \n\u001b[0;32m    574\u001b[0m \u001b[39m    Parameters\u001b[39;00m\n\u001b[1;32m   (...)\u001b[0m\n\u001b[0;32m    577\u001b[0m \u001b[39m    value : exception value\u001b[39;00m\n\u001b[0;32m    578\u001b[0m \u001b[39m    \"\"\"\u001b[39;00m\n\u001b[1;32m--> 579\u001b[0m     \u001b[39mreturn\u001b[39;00m ListTB\u001b[39m.\u001b[39;49mstructured_traceback(\u001b[39mself\u001b[39;49m, etype, value)\n",
      "File \u001b[1;32mc:\\Users\\em398\\Anaconda3\\envs\\bw2_advLCA\\lib\\site-packages\\IPython\\core\\ultratb.py:446\u001b[0m, in \u001b[0;36mListTB.structured_traceback\u001b[1;34m(self, etype, evalue, etb, tb_offset, context)\u001b[0m\n\u001b[0;32m    443\u001b[0m     chained_exc_ids\u001b[39m.\u001b[39madd(\u001b[39mid\u001b[39m(exception[\u001b[39m1\u001b[39m]))\n\u001b[0;32m    444\u001b[0m     chained_exceptions_tb_offset \u001b[39m=\u001b[39m \u001b[39m0\u001b[39m\n\u001b[0;32m    445\u001b[0m     out_list \u001b[39m=\u001b[39m (\n\u001b[1;32m--> 446\u001b[0m         \u001b[39mself\u001b[39;49m\u001b[39m.\u001b[39;49mstructured_traceback(\n\u001b[0;32m    447\u001b[0m             etype, evalue, (etb, chained_exc_ids),\n\u001b[0;32m    448\u001b[0m             chained_exceptions_tb_offset, context)\n\u001b[0;32m    449\u001b[0m         \u001b[39m+\u001b[39m chained_exception_message\n\u001b[0;32m    450\u001b[0m         \u001b[39m+\u001b[39m out_list)\n\u001b[0;32m    452\u001b[0m \u001b[39mreturn\u001b[39;00m out_list\n",
      "File \u001b[1;32mc:\\Users\\em398\\Anaconda3\\envs\\bw2_advLCA\\lib\\site-packages\\IPython\\core\\ultratb.py:1112\u001b[0m, in \u001b[0;36mAutoFormattedTB.structured_traceback\u001b[1;34m(self, etype, value, tb, tb_offset, number_of_lines_of_context)\u001b[0m\n\u001b[0;32m   1110\u001b[0m \u001b[39melse\u001b[39;00m:\n\u001b[0;32m   1111\u001b[0m     \u001b[39mself\u001b[39m\u001b[39m.\u001b[39mtb \u001b[39m=\u001b[39m tb\n\u001b[1;32m-> 1112\u001b[0m \u001b[39mreturn\u001b[39;00m FormattedTB\u001b[39m.\u001b[39;49mstructured_traceback(\n\u001b[0;32m   1113\u001b[0m     \u001b[39mself\u001b[39;49m, etype, value, tb, tb_offset, number_of_lines_of_context)\n",
      "File \u001b[1;32mc:\\Users\\em398\\Anaconda3\\envs\\bw2_advLCA\\lib\\site-packages\\IPython\\core\\ultratb.py:1006\u001b[0m, in \u001b[0;36mFormattedTB.structured_traceback\u001b[1;34m(self, etype, value, tb, tb_offset, number_of_lines_of_context)\u001b[0m\n\u001b[0;32m   1003\u001b[0m mode \u001b[39m=\u001b[39m \u001b[39mself\u001b[39m\u001b[39m.\u001b[39mmode\n\u001b[0;32m   1004\u001b[0m \u001b[39mif\u001b[39;00m mode \u001b[39min\u001b[39;00m \u001b[39mself\u001b[39m\u001b[39m.\u001b[39mverbose_modes:\n\u001b[0;32m   1005\u001b[0m     \u001b[39m# Verbose modes need a full traceback\u001b[39;00m\n\u001b[1;32m-> 1006\u001b[0m     \u001b[39mreturn\u001b[39;00m VerboseTB\u001b[39m.\u001b[39;49mstructured_traceback(\n\u001b[0;32m   1007\u001b[0m         \u001b[39mself\u001b[39;49m, etype, value, tb, tb_offset, number_of_lines_of_context\n\u001b[0;32m   1008\u001b[0m     )\n\u001b[0;32m   1009\u001b[0m \u001b[39melif\u001b[39;00m mode \u001b[39m==\u001b[39m \u001b[39m'\u001b[39m\u001b[39mMinimal\u001b[39m\u001b[39m'\u001b[39m:\n\u001b[0;32m   1010\u001b[0m     \u001b[39mreturn\u001b[39;00m ListTB\u001b[39m.\u001b[39mget_exception_only(\u001b[39mself\u001b[39m, etype, value)\n",
      "File \u001b[1;32mc:\\Users\\em398\\Anaconda3\\envs\\bw2_advLCA\\lib\\site-packages\\IPython\\core\\ultratb.py:859\u001b[0m, in \u001b[0;36mVerboseTB.structured_traceback\u001b[1;34m(self, etype, evalue, etb, tb_offset, number_of_lines_of_context)\u001b[0m\n\u001b[0;32m    850\u001b[0m \u001b[39mdef\u001b[39;00m \u001b[39mstructured_traceback\u001b[39m(\n\u001b[0;32m    851\u001b[0m     \u001b[39mself\u001b[39m,\n\u001b[0;32m    852\u001b[0m     etype: \u001b[39mtype\u001b[39m,\n\u001b[1;32m   (...)\u001b[0m\n\u001b[0;32m    856\u001b[0m     number_of_lines_of_context: \u001b[39mint\u001b[39m \u001b[39m=\u001b[39m \u001b[39m5\u001b[39m,\n\u001b[0;32m    857\u001b[0m ):\n\u001b[0;32m    858\u001b[0m     \u001b[39m\"\"\"Return a nice text document describing the traceback.\"\"\"\u001b[39;00m\n\u001b[1;32m--> 859\u001b[0m     formatted_exception \u001b[39m=\u001b[39m \u001b[39mself\u001b[39;49m\u001b[39m.\u001b[39;49mformat_exception_as_a_whole(etype, evalue, etb, number_of_lines_of_context,\n\u001b[0;32m    860\u001b[0m                                                            tb_offset)\n\u001b[0;32m    862\u001b[0m     colors \u001b[39m=\u001b[39m \u001b[39mself\u001b[39m\u001b[39m.\u001b[39mColors  \u001b[39m# just a shorthand + quicker name lookup\u001b[39;00m\n\u001b[0;32m    863\u001b[0m     colorsnormal \u001b[39m=\u001b[39m colors\u001b[39m.\u001b[39mNormal  \u001b[39m# used a lot\u001b[39;00m\n",
      "File \u001b[1;32mc:\\Users\\em398\\Anaconda3\\envs\\bw2_advLCA\\lib\\site-packages\\IPython\\core\\ultratb.py:793\u001b[0m, in \u001b[0;36mVerboseTB.format_exception_as_a_whole\u001b[1;34m(self, etype, evalue, etb, number_of_lines_of_context, tb_offset)\u001b[0m\n\u001b[0;32m    790\u001b[0m \u001b[39massert\u001b[39;00m \u001b[39misinstance\u001b[39m(tb_offset, \u001b[39mint\u001b[39m)\n\u001b[0;32m    791\u001b[0m head \u001b[39m=\u001b[39m \u001b[39mself\u001b[39m\u001b[39m.\u001b[39mprepare_header(etype, \u001b[39mself\u001b[39m\u001b[39m.\u001b[39mlong_header)\n\u001b[0;32m    792\u001b[0m records \u001b[39m=\u001b[39m (\n\u001b[1;32m--> 793\u001b[0m     \u001b[39mself\u001b[39;49m\u001b[39m.\u001b[39;49mget_records(etb, number_of_lines_of_context, tb_offset) \u001b[39mif\u001b[39;00m etb \u001b[39melse\u001b[39;00m []\n\u001b[0;32m    794\u001b[0m )\n\u001b[0;32m    796\u001b[0m frames \u001b[39m=\u001b[39m []\n\u001b[0;32m    797\u001b[0m skipped \u001b[39m=\u001b[39m \u001b[39m0\u001b[39m\n",
      "File \u001b[1;32mc:\\Users\\em398\\Anaconda3\\envs\\bw2_advLCA\\lib\\site-packages\\IPython\\core\\ultratb.py:848\u001b[0m, in \u001b[0;36mVerboseTB.get_records\u001b[1;34m(self, etb, number_of_lines_of_context, tb_offset)\u001b[0m\n\u001b[0;32m    842\u001b[0m     formatter \u001b[39m=\u001b[39m \u001b[39mNone\u001b[39;00m\n\u001b[0;32m    843\u001b[0m options \u001b[39m=\u001b[39m stack_data\u001b[39m.\u001b[39mOptions(\n\u001b[0;32m    844\u001b[0m     before\u001b[39m=\u001b[39mbefore,\n\u001b[0;32m    845\u001b[0m     after\u001b[39m=\u001b[39mafter,\n\u001b[0;32m    846\u001b[0m     pygments_formatter\u001b[39m=\u001b[39mformatter,\n\u001b[0;32m    847\u001b[0m )\n\u001b[1;32m--> 848\u001b[0m \u001b[39mreturn\u001b[39;00m \u001b[39mlist\u001b[39;49m(stack_data\u001b[39m.\u001b[39;49mFrameInfo\u001b[39m.\u001b[39;49mstack_data(etb, options\u001b[39m=\u001b[39;49moptions))[tb_offset:]\n",
      "File \u001b[1;32mc:\\Users\\em398\\Anaconda3\\envs\\bw2_advLCA\\lib\\site-packages\\stack_data\\core.py:578\u001b[0m, in \u001b[0;36mFrameInfo.stack_data\u001b[1;34m(cls, frame_or_tb, options, collapse_repeated_frames)\u001b[0m\n\u001b[0;32m    562\u001b[0m \u001b[39m@classmethod\u001b[39m\n\u001b[0;32m    563\u001b[0m \u001b[39mdef\u001b[39;00m \u001b[39mstack_data\u001b[39m(\n\u001b[0;32m    564\u001b[0m         \u001b[39mcls\u001b[39m,\n\u001b[1;32m   (...)\u001b[0m\n\u001b[0;32m    568\u001b[0m         collapse_repeated_frames: \u001b[39mbool\u001b[39m \u001b[39m=\u001b[39m \u001b[39mTrue\u001b[39;00m\n\u001b[0;32m    569\u001b[0m ) \u001b[39m-\u001b[39m\u001b[39m>\u001b[39m Iterator[Union[\u001b[39m'\u001b[39m\u001b[39mFrameInfo\u001b[39m\u001b[39m'\u001b[39m, RepeatedFrames]]:\n\u001b[0;32m    570\u001b[0m     \u001b[39m\"\"\"\u001b[39;00m\n\u001b[0;32m    571\u001b[0m \u001b[39m    An iterator of FrameInfo and RepeatedFrames objects representing\u001b[39;00m\n\u001b[0;32m    572\u001b[0m \u001b[39m    a full traceback or stack. Similar consecutive frames are collapsed into RepeatedFrames\u001b[39;00m\n\u001b[1;32m   (...)\u001b[0m\n\u001b[0;32m    576\u001b[0m \u001b[39m    and optionally an Options object to configure.\u001b[39;00m\n\u001b[0;32m    577\u001b[0m \u001b[39m    \"\"\"\u001b[39;00m\n\u001b[1;32m--> 578\u001b[0m     stack \u001b[39m=\u001b[39m \u001b[39mlist\u001b[39;49m(iter_stack(frame_or_tb))\n\u001b[0;32m    580\u001b[0m     \u001b[39m# Reverse the stack from a frame so that it's in the same order\u001b[39;00m\n\u001b[0;32m    581\u001b[0m     \u001b[39m# as the order from a traceback, which is the order of a printed\u001b[39;00m\n\u001b[0;32m    582\u001b[0m     \u001b[39m# traceback when read top to bottom (most recent call last)\u001b[39;00m\n\u001b[0;32m    583\u001b[0m     \u001b[39mif\u001b[39;00m is_frame(frame_or_tb):\n",
      "File \u001b[1;32mc:\\Users\\em398\\Anaconda3\\envs\\bw2_advLCA\\lib\\site-packages\\stack_data\\utils.py:98\u001b[0m, in \u001b[0;36miter_stack\u001b[1;34m(frame_or_tb)\u001b[0m\n\u001b[0;32m     96\u001b[0m \u001b[39mwhile\u001b[39;00m frame_or_tb:\n\u001b[0;32m     97\u001b[0m     \u001b[39myield\u001b[39;00m frame_or_tb\n\u001b[1;32m---> 98\u001b[0m     \u001b[39mif\u001b[39;00m is_frame(frame_or_tb):\n\u001b[0;32m     99\u001b[0m         frame_or_tb \u001b[39m=\u001b[39m frame_or_tb\u001b[39m.\u001b[39mf_back\n\u001b[0;32m    100\u001b[0m     \u001b[39melse\u001b[39;00m:\n",
      "File \u001b[1;32mc:\\Users\\em398\\Anaconda3\\envs\\bw2_advLCA\\lib\\site-packages\\stack_data\\utils.py:91\u001b[0m, in \u001b[0;36mis_frame\u001b[1;34m(frame_or_tb)\u001b[0m\n\u001b[0;32m     90\u001b[0m \u001b[39mdef\u001b[39;00m \u001b[39mis_frame\u001b[39m(frame_or_tb: Union[FrameType, TracebackType]) \u001b[39m-\u001b[39m\u001b[39m>\u001b[39m \u001b[39mbool\u001b[39m:\n\u001b[1;32m---> 91\u001b[0m     assert_(\u001b[39misinstance\u001b[39;49m(frame_or_tb, (types\u001b[39m.\u001b[39;49mFrameType, types\u001b[39m.\u001b[39;49mTracebackType)))\n\u001b[0;32m     92\u001b[0m     \u001b[39mreturn\u001b[39;00m \u001b[39misinstance\u001b[39m(frame_or_tb, (types\u001b[39m.\u001b[39mFrameType,))\n",
      "File \u001b[1;32mc:\\Users\\em398\\Anaconda3\\envs\\bw2_advLCA\\lib\\site-packages\\stack_data\\utils.py:172\u001b[0m, in \u001b[0;36massert_\u001b[1;34m(condition, error)\u001b[0m\n\u001b[0;32m    170\u001b[0m \u001b[39mif\u001b[39;00m \u001b[39misinstance\u001b[39m(error, \u001b[39mstr\u001b[39m):\n\u001b[0;32m    171\u001b[0m     error \u001b[39m=\u001b[39m \u001b[39mAssertionError\u001b[39;00m(error)\n\u001b[1;32m--> 172\u001b[0m \u001b[39mraise\u001b[39;00m error\n",
      "\u001b[1;31mAssertionError\u001b[0m: "
     ]
    }
   ],
   "source": [
    "# Use the IPython magic %run to run the file from within the Jupyter Notebook\n",
    "# Normally, this would be done from the command line\n",
    "# in an environment where Brightway2 is installed\n",
    "%run setup.py --project_name=my_mcs --ecospold_dirpath='C:\\Users\\em398\\OneDrive - University of Bath\\4 Software and Data\\ecoInvent\\Ecospold02 format 3_6\\ecoinvent 3.6_cut-off_ecoSpold02\\datasets'--database_name=ei36cut --overwrite_database=False"
   ]
  },
  {
   "cell_type": "code",
   "execution_count": 3,
   "metadata": {},
   "outputs": [
    {
     "name": "stdout",
     "output_type": "stream",
     "text": [
      "Extracting XML data from 0 datasets\n",
      "Extracted 0 datasets in 0.09 seconds\n",
      "Applying strategy: normalize_units\n",
      "Applying strategy: update_ecoinvent_locations\n",
      "Applying strategy: remove_zero_amount_coproducts\n",
      "Applying strategy: remove_zero_amount_inputs_with_no_activity\n",
      "Applying strategy: remove_unnamed_parameters\n",
      "Applying strategy: es2_assign_only_product_with_amount_as_reference_product\n",
      "Applying strategy: assign_single_product_as_activity\n",
      "Applying strategy: create_composite_code\n",
      "Applying strategy: drop_unspecified_subcategories\n",
      "Applying strategy: fix_ecoinvent_flows_pre35\n",
      "Applying strategy: drop_temporary_outdated_biosphere_flows\n",
      "Applying strategy: link_biosphere_by_flow_uuid\n",
      "Applying strategy: link_internal_technosphere_by_composite_code\n",
      "Applying strategy: delete_exchanges_missing_activity\n",
      "Applying strategy: delete_ghost_exchanges\n",
      "Applying strategy: remove_uncertainty_from_negative_loss_exchanges\n",
      "Applying strategy: fix_unreasonably_high_lognormal_uncertainties\n",
      "Applying strategy: set_lognormal_loc_value\n",
      "Applying strategy: convert_activity_parameters_to_list\n",
      "Applying strategy: add_cpc_classification_from_single_reference_product\n",
      "Applying strategy: delete_none_synonyms\n",
      "Applied 21 strategies in 0.00 seconds\n",
      "0 datasets\n",
      "0 exchanges\n",
      "0 unlinked exchanges\n",
      "  \n",
      "Applying strategy: drop_unlinked\n",
      "Applied 1 strategies in 0.00 seconds\n"
     ]
    },
    {
     "ename": "WrongDatabase",
     "evalue": "Activity database must be ecoinvent 3.6 cut-off, but set() was also found",
     "output_type": "error",
     "traceback": [
      "\u001b[1;31m---------------------------------------------------------------------------\u001b[0m",
      "\u001b[1;31mWrongDatabase\u001b[0m                             Traceback (most recent call last)",
      "Cell \u001b[1;32mIn [3], line 18\u001b[0m\n\u001b[0;32m     14\u001b[0m     ei36att\u001b[38;5;241m.\u001b[39mstatistics()\n\u001b[0;32m     17\u001b[0m ei36att\u001b[38;5;241m.\u001b[39mdrop_unlinked(\u001b[38;5;28;01mTrue\u001b[39;00m)\n\u001b[1;32m---> 18\u001b[0m ei36att\u001b[38;5;241m.\u001b[39mwrite_database()\n",
      "File \u001b[1;32mc:\\Users\\em398\\Anaconda3\\envs\\bw2_advLCA\\lib\\site-packages\\bw2io\\importers\\base_lci.py:237\u001b[0m, in \u001b[0;36mLCIImporter.write_database\u001b[1;34m(self, data, delete_existing, backend, activate_parameters, **kwargs)\u001b[0m\n\u001b[0;32m    233\u001b[0m \u001b[39mif\u001b[39;00m {o[\u001b[39m\"\u001b[39m\u001b[39mdatabase\u001b[39m\u001b[39m\"\u001b[39m] \u001b[39mfor\u001b[39;00m o \u001b[39min\u001b[39;00m data} \u001b[39m!=\u001b[39m {\u001b[39mself\u001b[39m\u001b[39m.\u001b[39mdb_name}:\n\u001b[0;32m    234\u001b[0m     error \u001b[39m=\u001b[39m \u001b[39m\"\u001b[39m\u001b[39mActivity database must be \u001b[39m\u001b[39m{}\u001b[39;00m\u001b[39m, but \u001b[39m\u001b[39m{}\u001b[39;00m\u001b[39m was also found\u001b[39m\u001b[39m\"\u001b[39m\u001b[39m.\u001b[39mformat(\n\u001b[0;32m    235\u001b[0m         \u001b[39mself\u001b[39m\u001b[39m.\u001b[39mdb_name, {o[\u001b[39m\"\u001b[39m\u001b[39mdatabase\u001b[39m\u001b[39m\"\u001b[39m] \u001b[39mfor\u001b[39;00m o \u001b[39min\u001b[39;00m data}\u001b[39m.\u001b[39mdifference({\u001b[39mself\u001b[39m\u001b[39m.\u001b[39mdb_name})\n\u001b[0;32m    236\u001b[0m     )\n\u001b[1;32m--> 237\u001b[0m     \u001b[39mraise\u001b[39;00m WrongDatabase(error)\n\u001b[0;32m    238\u001b[0m \u001b[39mif\u001b[39;00m \u001b[39mlen\u001b[39m({o[\u001b[39m\"\u001b[39m\u001b[39mcode\u001b[39m\u001b[39m\"\u001b[39m] \u001b[39mfor\u001b[39;00m o \u001b[39min\u001b[39;00m data}) \u001b[39m<\u001b[39m \u001b[39mlen\u001b[39m(data):\n\u001b[0;32m    239\u001b[0m     seen, duplicates \u001b[39m=\u001b[39m \u001b[39mset\u001b[39m(), []\n",
      "\u001b[1;31mWrongDatabase\u001b[0m: Activity database must be ecoinvent 3.6 cut-off, but set() was also found"
     ]
    }
   ],
   "source": [
    "#Added from Ecoinvent_EM.ipynb to create project \n",
    "import brightway2 as bw\n",
    "\n",
    "# Import ecoinvent\n",
    "\n",
    "# You need to change the line below with the directory where you have saved ecoinvent\n",
    "ei36attdir = r\"C:\\Users\\em398\\OneDrive - University of Bath\\4 Software and Data\\ecoInvent\\Ecospold02 format 3_6\\ecoinvent 3.6_cut-off_ecoSpold02\"\n",
    "\n",
    "if 'ecoinvent 3.6 cut-off' in bw.databases:\n",
    "    print(\"Database has already been imported\")\n",
    "else:\n",
    "    ei36att = bw.SingleOutputEcospold2Importer(ei36attdir, 'ecoinvent 3.6 cut-off') # You can give it another name of course\n",
    "    ei36att.apply_strategies()\n",
    "    ei36att.statistics()\n",
    "\n",
    "\n",
    "ei36att.drop_unlinked(True)\n",
    "ei36att.write_database() # This will take some time."
   ]
  },
  {
   "cell_type": "markdown",
   "metadata": {},
   "source": [
    "### Generating the samples"
   ]
  },
  {
   "cell_type": "markdown",
   "metadata": {},
   "source": [
    "#### General description"
   ]
  },
  {
   "cell_type": "markdown",
   "metadata": {},
   "source": [
    "The main idea behind the pre-calculated samples is that, for a given iteration, the same random values for the technosphere matrix $\\mathbf{A}$ and the elementary flow matrix $\\mathbf{B}$ (called the *biosphere* matrix in Brightway2) are used to solve the LCA problem for all possible products in the database. This ensures that all product LCI and LCIA scores are based on the same *realization* of the input matrices, i.e. they are correlated.  \n",
    "Given this, the general algorithm is quite simple. For a given iteration:\n",
    "  - for every iteration:  \n",
    "    - Create a new directory  \n",
    "    - Store, if requested, the $\\mathbf{A}$ and $\\mathbf{B}$ matrices in a subdirectory (Matrices). These can later be used in e.g. sensitivity analysis or to reproduce results. The saved matrices are stored not used in calculations. These are saved in three [numpy arrays](https://docs.scipy.org/doc/numpy-1.14.0/reference/generated/numpy.array.html) required to build scipy sparse matrices of the type [Compressed Sparse Row](https://docs.scipy.org/doc/scipy/reference/generated/scipy.sparse.csr_matrix.html):\n",
    "      - `data`, the actually sampled values for non-zero elements of the matrices. There is one of these per iteration, and it is found in the `Matrices` folder. They are simply named `A_matrix.npy` of `B_matrix.npy`. \n",
    "      - `X_row_indices`, where the *i*th element indicates in what row of the corresponding matrix **X** the *i*th element of the `data` file is located.  \n",
    "      - `X_col_indices`, where the *i*th element indicates in what column of the corresponding matrix **X** the *i*th element of the `data` file is located.  \n",
    "\n",
    "    - For every product in the database:    \n",
    "      - Calculate, and store if requested,  the supply vector $\\mathbf{s}$ for a unit demand of the product, i.e. the vector that contains the required output from each unit process in the database. These are also [saved](https://docs.scipy.org/doc/numpy-1.14.0/reference/generated/numpy.save.html) as [numpy arrays](https://docs.scipy.org/doc/numpy-1.14.0/reference/generated/numpy.array.html). The file names are also equal to the activity's UUID.    \n",
    "      - Calculate and store, if requested, the LCI vector $\\mathbf{g}$, i.e. the vector that contains the total amounts of elementary flows per unit output of the product. These arealso saved as numpy arrays, and their names also correspond to the activity's [code](https://docs.brightwaylca.org/intro.html#activity-hashes).  \n",
    "            \n",
    "This will generate one directory per iteration, with as many subdirectories as there were requested objects (matrices, supply arrays, life cycle inventories).  \n",
    "- The subdirectories `Inventory` and `Supply` contain, if their respective objects are requested, as many files as there are products in the database (14889 in the case of ecoinvent 3.4 cut-off)  \n",
    "- The subdirectory `Matrices` contains two files with the data for the $\\mathbf{A}$ and $\\mathbf{B}$ matrices. The row and column indices are the same across all iterations, and so are stored in the job-level folder `common_files` (see below). \n"
   ]
  },
  {
   "cell_type": "markdown",
   "metadata": {},
   "source": [
    "#### Organization of the sampling: base_directory, database directory, jobs directory, jobs, iterations  "
   ]
  },
  {
   "cell_type": "markdown",
   "metadata": {},
   "source": [
    "- Everything that is generated by this code (and subsequent functions) is stored in a base directory, referred to as **`base_dir`** in the code. In this example, we will use `C:\\mypy\\data\\myMCs` \n",
    "- It is assumed that a user could want to store results for multiple databases in the same base directories. Therefore, for a given database, a new subdirectory named after the treated database is generated.  \n",
    "- Within this directory, a new subdirectory called **`jobs`** is created. This directory holds temporary items, notably the millions of small saved numpy arrays that will later be concatenated to be reused. Once everything has been processed, these can safely be deleted. There are helper functions to delete these as they become obsolete.  \n",
    "- The sampling and calculation of LCI results can be a lengthy process, so a user may want to launch and break (`ctrl-c`) the code multiple times, or run the code from many computers at once, only to later join the results. A session of work between the time the code is launched and the time it either finished (calculated and stored results for all iterations) or was halted is called a **`job`**, and each job has its own directory.  \n",
    "- Within each `job` directory, one finds subdirectories for each **iteration**, as described above.  \n",
    "- Each time a new job is launched, a number of **common files** that will help knowing what are in the arrays, and in what order. These files are:  \n",
    "\n",
    "  - **`activity_UUIDs.json`**: list of activity codes, in the order in which they were processed. Activity codes are UUIDs and are the second element of activity *keys*, (database_name, activity_code)  \n",
    "  - **`activity_dict.pickle`**: dictionary where keys are the tuples that uniquely identify the activities (database_name, UUID) and the values are the column numbers of these activities in the $\\mathbf{A}$ and $\\mathbf{b}$ matrices (or the index in the supply vector $\\mathbf{s}$).  \n",
    "  - **`bio_col_indices.npy`, `bio_row_indices.npy`**: Arrays with the column and row indices of the matrix data arrays for the $\\mathbf{b}$ matrix, , respectively, used to build a `COO` matrix and to link data to matrix elements (using the `rev_activity_dict`and `rev_bio_dict`, respectively) \n",
    "  - **`bio_dict.pickle`**: dictionary where keys are the tuples that uniquely identify the elementary flows ('biosphere3', UUID) and the values are the row numbers of these activities in the $\\mathbf{B}$ matrices (or the index in the inventory vector $\\mathbf{g}$).  \n",
    "  - **`bio_params.pickle`**: Information about each individual elementary flow in the $\\mathbf{B}$ matrix in the form of a [parameter array](https://docs.brightwaylca.org/lca.html#building-matrices). This file is never used by the subsequent functions.    \n",
    "  - **`IO_Mapping.pickle`**: Mapping of exchanges to the indices in the SQL inventory database in the project. This file is never used by the subsequent functions.    \n",
    "  - **`product_dict.pickle`**: dictionary where keys are the tuples that uniquely identify the products (database_name, UUID) and the values are the row numbers of these products in the $\\mathbf{A}$ matrix.  \n",
    "  - **`tech_col_indices.npy`, `tech_row_indices.npy`**: Arrays with the column and row indices of the matrix data arrays for the $\\mathbf{A}$ matrix, , respectively, used to build a `COO` matrix and to link data to matrix elements (using the `rev_activity_dict`and `rev_product_dict`, respectively) \n",
    "  - **`tech_params.pickle`**: Information about each individual elementary flow in the $\\mathbf{A}$ matrix in the form of a [parameter array](https://docs.brightwaylca.org/lca.html#building-matrices). This file is never used by the subsequent functions."
   ]
  },
  {
   "cell_type": "markdown",
   "metadata": {},
   "source": [
    "The resulting structure is therefore, for *n* datasets and *m* iterations:  \n",
    "```bash  \n",
    "  |-- base_dir   \n",
    "  |   |-- database      \n",
    "  |   |   |-- jobs   \n",
    "  |   |   |   |-- job_1  \n",
    "  |   |   |   |   |-- common_files  \n",
    "  |   |   |   |   |   |-- ...11 common files described above\n",
    "  |   |   |   |   |-- Iteration_0\n",
    "  |   |   |   |   |   |-- Matrices\n",
    "  |   |   |   |   |   |   |-- A_matrix.npz  \n",
    "  |   |   |   |   |   |   |-- B_matrix.npz\n",
    "  |   |   |   |   |   |-- Inventory\n",
    "  |   |   |   |   |   |   |-- UUID_1.npy\n",
    "  |   |   |   |   |   |   |-- UUID_2.npy  \n",
    "  |   |   |   |   |   |   |-- ...\n",
    "  |   |   |   |   |   |   |-- UUID_n.npy    \n",
    "  |   |   |   |   |   |-- Supply\n",
    "  |   |   |   |   |   |   |-- UUID_1.npy\n",
    "  |   |   |   |   |   |   |-- UUID_2.npy  \n",
    "  |   |   |   |   |   |   |-- ...\n",
    "  |   |   |   |   |   |   |-- UUID_n.npy    \n",
    "...\n",
    "  |   |   |   |   |-- Iteration_m\n",
    "  |   |   |   |   |   |...\n",
    "  |   |   |   |-- job_2  \n",
    "  |   |   |   |   |-- common_files  \n",
    "  |   |   |   |   |   |-- ...11 common files described above\n",
    "  |   |   |   |   |-- Iteration_0\n",
    "  |   |   |   |   |   |...\n",
    "  |   |   |   |   |-- Iteration_m\n",
    "```"
   ]
  },
  {
   "cell_type": "markdown",
   "metadata": {},
   "source": [
    "#### Running the code"
   ]
  },
  {
   "cell_type": "markdown",
   "metadata": {},
   "source": [
    "The code to generate the pre-calculated samples are found in `sample_generation.py`  \n",
    "It uses `multiprocessing` to speed up calculations: iterations are dispatched to individual CPUs.  \n",
    "\n",
    "The passed arguments are:  \n",
    "- **`project_name`**: Name of the Brightway2 project (string).\n",
    "- **`database_name`**: Name of the database for which samples are required (string).\n",
    "- **`iterations`**: Number of Monte Carlo iterations to carry out (integer).\n",
    "- **`cpus`**: Number of CPUs to use in Monte Carlo generation. Because calculations are done in parallel, more CPUs=less time.\n",
    "- **`base_dir`**: Base directory path for precalculated samples\n",
    "- **`include_matrices`**, **`include_supply`**, **`include_inventory`**: Requested elements for which samples should be saved (bool)\n",
    "\n",
    "Let's generate two jobs of 5 iterations each, requesting all of the possible outputs.  "
   ]
  },
  {
   "cell_type": "code",
   "execution_count": 10,
   "metadata": {},
   "outputs": [],
   "source": [
    "from brightway2 import *\n"
   ]
  },
  {
   "cell_type": "code",
   "execution_count": 12,
   "metadata": {},
   "outputs": [
    {
     "data": {
      "text/plain": [
       "Brightway2 projects manager with 14 objects:\n",
       "\tAB_test\n",
       "\tEN15804\n",
       "\tEN15804_update\n",
       "\tNone\n",
       "\tadvlca21\n",
       "\tadvlca22\n",
       "\tadvlca22_Exercise\n",
       "\tbw2_seminar_2017\n",
       "\tcorrelatedUncertainty test\n",
       "\tdefault\n",
       "\tecoinvent 2.2\n",
       "\tmy_mcs\n",
       "\tmy_mcs_agg\n",
       "\tmy_mcs_agg_EM\n",
       "Use `projects.report()` to get a report on all projects."
      ]
     },
     "execution_count": 12,
     "metadata": {},
     "output_type": "execute_result"
    }
   ],
   "source": [
    "projects\n"
   ]
  },
  {
   "cell_type": "code",
   "execution_count": 14,
   "metadata": {},
   "outputs": [],
   "source": [
    "projects.set_current('my_mcs')"
   ]
  },
  {
   "cell_type": "code",
   "execution_count": 16,
   "metadata": {},
   "outputs": [
    {
     "name": "stdout",
     "output_type": "stream",
     "text": [
      "Extracting XML data from 18121 datasets\n",
      "Extracted 18121 datasets in 106.52 seconds\n",
      "Applying strategy: normalize_units\n",
      "Applying strategy: update_ecoinvent_locations\n",
      "Applying strategy: remove_zero_amount_coproducts\n",
      "Applying strategy: remove_zero_amount_inputs_with_no_activity\n",
      "Applying strategy: remove_unnamed_parameters\n",
      "Applying strategy: es2_assign_only_product_with_amount_as_reference_product\n",
      "Applying strategy: assign_single_product_as_activity\n",
      "Applying strategy: create_composite_code\n",
      "Applying strategy: drop_unspecified_subcategories\n",
      "Applying strategy: fix_ecoinvent_flows_pre35\n",
      "Applying strategy: drop_temporary_outdated_biosphere_flows\n",
      "Applying strategy: link_biosphere_by_flow_uuid\n",
      "Applying strategy: link_internal_technosphere_by_composite_code\n",
      "Applying strategy: delete_exchanges_missing_activity\n",
      "Applying strategy: delete_ghost_exchanges\n",
      "Applying strategy: remove_uncertainty_from_negative_loss_exchanges\n",
      "Applying strategy: fix_unreasonably_high_lognormal_uncertainties\n",
      "Applying strategy: set_lognormal_loc_value\n",
      "Applying strategy: convert_activity_parameters_to_list\n",
      "Applying strategy: add_cpc_classification_from_single_reference_product\n",
      "Applying strategy: delete_none_synonyms\n",
      "Applied 21 strategies in 14.34 seconds\n",
      "18121 datasets\n",
      "615644 exchanges\n",
      "0 unlinked exchanges\n",
      "  \n",
      "Applying strategy: drop_unlinked\n",
      "Applied 1 strategies in 0.32 seconds\n"
     ]
    },
    {
     "name": "stderr",
     "output_type": "stream",
     "text": [
      "Writing activities to SQLite3 database:\n",
      "0% [##############################] 100% | ETA: 00:00:00\n",
      "Total time elapsed: 00:01:16\n"
     ]
    },
    {
     "name": "stdout",
     "output_type": "stream",
     "text": [
      "Title: Writing activities to SQLite3 database:\n",
      "  Started: 09/28/2022 17:37:27\n",
      "  Finished: 09/28/2022 17:38:44\n",
      "  Total time elapsed: 00:01:16\n",
      "  CPU %: 84.70\n",
      "  Memory %: 20.13\n",
      "Created database: ei36cut\n"
     ]
    },
    {
     "data": {
      "text/plain": [
       "Brightway2 SQLiteBackend: ei36cut"
      ]
     },
     "execution_count": 16,
     "metadata": {},
     "output_type": "execute_result"
    }
   ],
   "source": [
    "databases\n",
    "\n",
    "# Import ecoinvent\n",
    "\n",
    "# You need to change the line below with the directory where you have saved ecoinvent\n",
    "ei36dir = r\"C:\\Users\\em398\\OneDrive - University of Bath\\4 Software and Data\\ecoInvent\\Ecospold02 format 3_6\\ecoinvent 3.6_cut-off_ecoSpold02\\datasets\"\n",
    "\n",
    "if 'ei36cut' in bw.databases:\n",
    "    print(\"Database has already been imported\")\n",
    "else:\n",
    "    ei36 = bw.SingleOutputEcospold2Importer(ei36dir, 'ei36cut') # You can give it another name of course\n",
    "    ei36.apply_strategies()\n",
    "    ei36.statistics()\n",
    "\n",
    "\n",
    "ei36.drop_unlinked(True)\n",
    "ei36.write_database() # This will take some time."
   ]
  },
  {
   "cell_type": "code",
   "execution_count": 17,
   "metadata": {
    "ExecuteTime": {
     "end_time": "2018-03-20T20:49:07.177378Z",
     "start_time": "2018-03-20T20:43:54.623777Z"
    }
   },
   "outputs": [
    {
     "name": "stdout",
     "output_type": "stream",
     "text": [
      "1 samples generated for 18121 activities, saved to directory C:/mypy/data/my_mcs\\ei36cut\\jobs\\UBMD-7882481_2022-9-28_17h41.\n",
      "Use `clean_jobs.py` to sanitize the data, and then `concatenate_within_jobs.py` to consolidate samples\n",
      "See log file for more information\n"
     ]
    }
   ],
   "source": [
    "%run sample_generation.py --project_name=my_mcs --database_name=ei36cut --iterations=1 --cpus=4 --base_dir=C:/mypy/data/my_mcs --include_matrices=True --include_supply=True --include_inventory=True\n"
   ]
  },
  {
   "cell_type": "code",
   "execution_count": 4,
   "metadata": {
    "ExecuteTime": {
     "end_time": "2018-03-20T20:54:39.934091Z",
     "start_time": "2018-03-20T20:49:07.188910Z"
    }
   },
   "outputs": [
    {
     "name": "stdout",
     "output_type": "stream",
     "text": [
      "1 samples generated for 14889 activities, saved to directory C:/mypy/data/my_mcs\\db\\jobs\\DESKTOP-KUE8133_2018-3-20_16h49.\n",
      "Use `clean_jobs.py` to sanitize the data, and then `concatenate_within_jobs.py` to consolidate samples\n",
      "See log file for more information\n"
     ]
    }
   ],
   "source": [
    "%run sample_generation.py --project_name=my_mcs --database_name=db --iterations=1 --cpus=8 --base_dir=C:/mypy/data/my_mcs --include_matrices=True --include_supply=True --include_inventory=True"
   ]
  },
  {
   "cell_type": "code",
   "execution_count": 19,
   "metadata": {
    "ExecuteTime": {
     "end_time": "2018-03-20T21:56:45.821826Z",
     "start_time": "2018-03-20T21:41:06.589098Z"
    }
   },
   "outputs": [
    {
     "name": "stdout",
     "output_type": "stream",
     "text": [
      "8 samples generated for 14889 activities, saved to directory C:/mypy/data/my_mcs\\db\\jobs\\DESKTOP-KUE8133_2018-3-20_17h41.\n",
      "Use `clean_jobs.py` to sanitize the data, and then `concatenate_within_jobs.py` to consolidate samples\n",
      "See log file for more information\n"
     ]
    }
   ],
   "source": [
    "%run sample_generation.py --project_name=my_mcs --database_name=db --iterations=8 --cpus=8 --base_dir=C:/mypy/data/my_mcs --include_matrices=True --include_supply=True --include_inventory=True"
   ]
  },
  {
   "cell_type": "code",
   "execution_count": 20,
   "metadata": {
    "ExecuteTime": {
     "end_time": "2018-03-20T22:06:48.416309Z",
     "start_time": "2018-03-20T21:56:45.837344Z"
    }
   },
   "outputs": [
    {
     "name": "stdout",
     "output_type": "stream",
     "text": [
      "5 samples generated for 14889 activities, saved to directory C:/mypy/data/my_mcs\\db\\jobs\\DESKTOP-KUE8133_2018-3-20_17h56.\n",
      "Use `clean_jobs.py` to sanitize the data, and then `concatenate_within_jobs.py` to consolidate samples\n",
      "See log file for more information\n"
     ]
    }
   ],
   "source": [
    "%run sample_generation.py --project_name=my_mcs --database_name=db --iterations=5 --cpus=8 --base_dir=C:/mypy/data/my_mcs --include_matrices=True --include_supply=True --include_inventory=True"
   ]
  },
  {
   "cell_type": "markdown",
   "metadata": {},
   "source": [
    "#### Checking out the output:"
   ]
  },
  {
   "cell_type": "markdown",
   "metadata": {},
   "source": [
    "The program first created `base_dir`, a directory where everything will be stored, and a subdirectory `db` where all the work for this specific database will be stored. Within the database-level directory, there is only one subdirectory for now: `jobs`:"
   ]
  },
  {
   "cell_type": "code",
   "execution_count": 21,
   "metadata": {
    "ExecuteTime": {
     "end_time": "2018-03-20T22:06:48.435861Z",
     "start_time": "2018-03-20T22:06:48.429844Z"
    }
   },
   "outputs": [
    {
     "data": {
      "text/plain": [
       "['jobs', 'results']"
      ]
     },
     "execution_count": 21,
     "metadata": {},
     "output_type": "execute_result"
    }
   ],
   "source": [
    "base_dir = r'C:/mypy/data/my_mcs'\n",
    "database_name = 'db'\n",
    "os.listdir(os.path.join(base_dir, database_name))"
   ]
  },
  {
   "cell_type": "markdown",
   "metadata": {},
   "source": [
    "Inside the jobs directory, we find the two jobs we ran:"
   ]
  },
  {
   "cell_type": "code",
   "execution_count": 22,
   "metadata": {
    "ExecuteTime": {
     "end_time": "2018-03-20T22:06:48.468447Z",
     "start_time": "2018-03-20T22:06:48.448394Z"
    }
   },
   "outputs": [
    {
     "data": {
      "text/plain": [
       "['DESKTOP-KUE8133_2018-3-20_16h43',\n",
       " 'DESKTOP-KUE8133_2018-3-20_16h49',\n",
       " 'DESKTOP-KUE8133_2018-3-20_17h41',\n",
       " 'DESKTOP-KUE8133_2018-3-20_17h56']"
      ]
     },
     "execution_count": 22,
     "metadata": {},
     "output_type": "execute_result"
    }
   ],
   "source": [
    "jobs = os.listdir(os.path.join(base_dir, database_name, 'jobs'))\n",
    "jobs"
   ]
  },
  {
   "cell_type": "markdown",
   "metadata": {},
   "source": [
    "Looking inside the first job, we find directories for our `common_files` and our five iterations, as wel as a small log file that just states what was generated and when:  "
   ]
  },
  {
   "cell_type": "code",
   "execution_count": 23,
   "metadata": {
    "ExecuteTime": {
     "end_time": "2018-03-20T22:06:48.504043Z",
     "start_time": "2018-03-20T22:06:48.492011Z"
    }
   },
   "outputs": [
    {
     "data": {
      "text/plain": [
       "['common_files', 'concatenated_arrays', 'iteration_0-0', 'log.json']"
      ]
     },
     "execution_count": 23,
     "metadata": {},
     "output_type": "execute_result"
    }
   ],
   "source": [
    "# Common files: \n",
    "job1_dir = os.path.join(base_dir, database_name, 'jobs', jobs[0])\n",
    "os.listdir(job1_dir)"
   ]
  },
  {
   "cell_type": "markdown",
   "metadata": {},
   "source": [
    "The common files are as announced:"
   ]
  },
  {
   "cell_type": "code",
   "execution_count": 24,
   "metadata": {
    "ExecuteTime": {
     "end_time": "2018-03-20T22:06:48.530112Z",
     "start_time": "2018-03-20T22:06:48.518581Z"
    }
   },
   "outputs": [
    {
     "data": {
      "text/plain": [
       "['activity_dict.pickle',\n",
       " 'activity_UUIDs.json',\n",
       " 'bio_col_indices.npy',\n",
       " 'bio_dict.pickle',\n",
       " 'bio_params.pickle',\n",
       " 'bio_row_indices.npy',\n",
       " 'IO_Mapping.pickle',\n",
       " 'product_dict.pickle',\n",
       " 'tech_col_indices.npy',\n",
       " 'tech_params.pickle',\n",
       " 'tech_row_indices.npy']"
      ]
     },
     "execution_count": 24,
     "metadata": {},
     "output_type": "execute_result"
    }
   ],
   "source": [
    "os.listdir(os.path.join(job1_dir, 'common_files'))"
   ]
  },
  {
   "cell_type": "markdown",
   "metadata": {},
   "source": [
    "Inside the iterations subdirectories, we have our three expected subdirectories:  "
   ]
  },
  {
   "cell_type": "code",
   "execution_count": 25,
   "metadata": {
    "ExecuteTime": {
     "end_time": "2018-03-20T22:06:48.557686Z",
     "start_time": "2018-03-20T22:06:48.547157Z"
    }
   },
   "outputs": [
    {
     "data": {
      "text/plain": [
       "['Inventory', 'Matrices', 'Supply']"
      ]
     },
     "execution_count": 25,
     "metadata": {},
     "output_type": "execute_result"
    }
   ],
   "source": [
    "os.listdir(os.path.join(job1_dir, 'iteration_0-0'))"
   ]
  },
  {
   "cell_type": "markdown",
   "metadata": {},
   "source": [
    "In the log file, we simply see when the samples were generated, and what types of results were included (1 if included, else 0)."
   ]
  },
  {
   "cell_type": "code",
   "execution_count": 26,
   "metadata": {
    "ExecuteTime": {
     "end_time": "2018-03-20T22:06:48.589770Z",
     "start_time": "2018-03-20T22:06:48.572223Z"
    }
   },
   "outputs": [
    {
     "data": {
      "text/plain": [
       "{'cleaned': {'completed': '2018-3-20_16h55',\n",
       "  'included_elements': {'Inventory': 1, 'Matrices': 1, 'Supply': 1}},\n",
       " 'included_in_global_concatenated_results': {'completed': '2018-3-20_17h19',\n",
       "  'included_elements': {'Inventory': 1, 'Matrices': 1, 'Supply': 1}},\n",
       " 'internally_concatenated': {'completed': '2018-3-20_16h58',\n",
       "  'included_elements': {'Inventory': 1, 'Matrices': 1, 'Supply': 1}},\n",
       " 'samples_generated': {'completed': '2018-3-20_16h49',\n",
       "  'included_elements': {'Inventory': 1, 'Matrices': 1, 'Supply': 1}}}"
      ]
     },
     "execution_count": 26,
     "metadata": {},
     "output_type": "execute_result"
    }
   ],
   "source": [
    "import json\n",
    "with open(os.path.join(job1_dir, 'log.json'), 'rb') as f:\n",
    "    log = json.load(f)\n",
    "log"
   ]
  },
  {
   "cell_type": "markdown",
   "metadata": {},
   "source": [
    "### Cleaning up the samples"
   ]
  },
  {
   "cell_type": "markdown",
   "metadata": {},
   "source": [
    "Before using the samples to generate our desired arrays, a clean-up is necessary to:  \n",
    "  - Catch and delete jobs that are missing common files or for which some wanted output (e.g. matrices) are missing.  \n",
    "  - Catch and delete iterations within jobs that are incomplete, i.e. for which samples are not available for all activities. When this happens, *whole* iterations are deleted (for all sample types and all activities). \n",
    "  \n",
    "This can be done using the python code in `clean_jobs.py` The syntax to run it from the command line is:  \n",
    "\n",
    "The arguments to this function are: \n",
    "- **`base_dir`**, **`database_name`**: As described above.  \n",
    "- **`database_size`**: Number of datasets expected.  \n",
    "- **`include_inventory`**, **`include_matrices`**, **`include_supply`**: To determine what the clean-up should be looking for."
   ]
  },
  {
   "cell_type": "code",
   "execution_count": 1,
   "metadata": {
    "ExecuteTime": {
     "end_time": "2018-03-20T22:06:53.483265Z",
     "start_time": "2018-03-20T22:06:48.604309Z"
    }
   },
   "outputs": [
    {
     "ename": "Exception",
     "evalue": "File `'clean_jobs.py'` not found.",
     "output_type": "error",
     "traceback": [
      "\u001b[1;31m---------------------------------------------------------------------------\u001b[0m",
      "\u001b[1;31mOSError\u001b[0m                                   Traceback (most recent call last)",
      "File \u001b[1;32mc:\\Users\\em398\\Anaconda3\\envs\\bw2_advLCA\\lib\\site-packages\\IPython\\core\\magics\\execution.py:696\u001b[0m, in \u001b[0;36mExecutionMagics.run\u001b[1;34m(self, parameter_s, runner, file_finder)\u001b[0m\n\u001b[0;32m    695\u001b[0m     fpath \u001b[39m=\u001b[39m arg_lst[\u001b[39m0\u001b[39m]\n\u001b[1;32m--> 696\u001b[0m     filename \u001b[39m=\u001b[39m file_finder(fpath)\n\u001b[0;32m    697\u001b[0m \u001b[39mexcept\u001b[39;00m \u001b[39mIndexError\u001b[39;00m \u001b[39mas\u001b[39;00m e:\n",
      "File \u001b[1;32mc:\\Users\\em398\\Anaconda3\\envs\\bw2_advLCA\\lib\\site-packages\\IPython\\utils\\path.py:92\u001b[0m, in \u001b[0;36mget_py_filename\u001b[1;34m(name)\u001b[0m\n\u001b[0;32m     91\u001b[0m         \u001b[39mreturn\u001b[39;00m py_name\n\u001b[1;32m---> 92\u001b[0m \u001b[39mraise\u001b[39;00m \u001b[39mIOError\u001b[39;00m(\u001b[39m\"\u001b[39m\u001b[39mFile `\u001b[39m\u001b[39m%r\u001b[39;00m\u001b[39m` not found.\u001b[39m\u001b[39m\"\u001b[39m \u001b[39m%\u001b[39m name)\n",
      "\u001b[1;31mOSError\u001b[0m: File `'clean_jobs.py'` not found.",
      "\nThe above exception was the direct cause of the following exception:\n",
      "\u001b[1;31mException\u001b[0m                                 Traceback (most recent call last)",
      "Cell \u001b[1;32mIn [1], line 1\u001b[0m\n\u001b[1;32m----> 1\u001b[0m get_ipython()\u001b[38;5;241m.\u001b[39mrun_line_magic(\u001b[38;5;124m'\u001b[39m\u001b[38;5;124mrun\u001b[39m\u001b[38;5;124m'\u001b[39m, \u001b[38;5;124m'\u001b[39m\u001b[38;5;124mclean_jobs.py --base_dir=c:/mypy/data/my_mcs --database_name=ei36cut --database_size=14889 --include_inventory=True --include_matrices=True --include_supply=True\u001b[39m\u001b[38;5;124m'\u001b[39m)\n",
      "File \u001b[1;32mc:\\Users\\em398\\Anaconda3\\envs\\bw2_advLCA\\lib\\site-packages\\IPython\\core\\interactiveshell.py:2309\u001b[0m, in \u001b[0;36mInteractiveShell.run_line_magic\u001b[1;34m(self, magic_name, line, _stack_depth)\u001b[0m\n\u001b[0;32m   2307\u001b[0m     kwargs[\u001b[39m'\u001b[39m\u001b[39mlocal_ns\u001b[39m\u001b[39m'\u001b[39m] \u001b[39m=\u001b[39m \u001b[39mself\u001b[39m\u001b[39m.\u001b[39mget_local_scope(stack_depth)\n\u001b[0;32m   2308\u001b[0m \u001b[39mwith\u001b[39;00m \u001b[39mself\u001b[39m\u001b[39m.\u001b[39mbuiltin_trap:\n\u001b[1;32m-> 2309\u001b[0m     result \u001b[39m=\u001b[39m fn(\u001b[39m*\u001b[39margs, \u001b[39m*\u001b[39m\u001b[39m*\u001b[39mkwargs)\n\u001b[0;32m   2310\u001b[0m \u001b[39mreturn\u001b[39;00m result\n",
      "File \u001b[1;32mc:\\Users\\em398\\Anaconda3\\envs\\bw2_advLCA\\lib\\site-packages\\IPython\\core\\magics\\execution.py:707\u001b[0m, in \u001b[0;36mExecutionMagics.run\u001b[1;34m(self, parameter_s, runner, file_finder)\u001b[0m\n\u001b[0;32m    705\u001b[0m     \u001b[39mif\u001b[39;00m os\u001b[39m.\u001b[39mname \u001b[39m==\u001b[39m \u001b[39m'\u001b[39m\u001b[39mnt\u001b[39m\u001b[39m'\u001b[39m \u001b[39mand\u001b[39;00m re\u001b[39m.\u001b[39mmatch(\u001b[39mr\u001b[39m\u001b[39m\"\u001b[39m\u001b[39m^\u001b[39m\u001b[39m'\u001b[39m\u001b[39m.*\u001b[39m\u001b[39m'\u001b[39m\u001b[39m$\u001b[39m\u001b[39m\"\u001b[39m,fpath):\n\u001b[0;32m    706\u001b[0m         warn(\u001b[39m'\u001b[39m\u001b[39mFor Windows, use double quotes to wrap a filename: \u001b[39m\u001b[39m%r\u001b[39;00m\u001b[39mun \u001b[39m\u001b[39m\"\u001b[39m\u001b[39mmypath\u001b[39m\u001b[39m\\\\\u001b[39;00m\u001b[39mmyfile.py\u001b[39m\u001b[39m\"\u001b[39m\u001b[39m'\u001b[39m)\n\u001b[1;32m--> 707\u001b[0m     \u001b[39mraise\u001b[39;00m \u001b[39mException\u001b[39;00m(msg) \u001b[39mfrom\u001b[39;00m \u001b[39me\u001b[39;00m\n\u001b[0;32m    708\u001b[0m \u001b[39mexcept\u001b[39;00m \u001b[39mTypeError\u001b[39;00m:\n\u001b[0;32m    709\u001b[0m     \u001b[39mif\u001b[39;00m fpath \u001b[39min\u001b[39;00m sys\u001b[39m.\u001b[39mmeta_path:\n",
      "\u001b[1;31mException\u001b[0m: File `'clean_jobs.py'` not found."
     ]
    }
   ],
   "source": [
    "%run clean_jobs.py --base_dir=c:/mypy/data/my_mcs --database_name=ei36cut --database_size=14889 --include_inventory=True --include_matrices=True --include_supply=True"
   ]
  },
  {
   "cell_type": "markdown",
   "metadata": {},
   "source": [
    "### Concatenating results within jobs"
   ]
  },
  {
   "cell_type": "markdown",
   "metadata": {},
   "source": [
    "The order of activities, products and elementary flows within a job is garanteed to be the same across iterations and across activity-specific results. The concatenation is therefore *simply* a matter of concatenating the individual arrays for a given desired output (say inventory vectors $\\mathbf{g}$) for a given activity across all iterations. The order in which iteration-specific results are concatenated must be the same for all activities. The algorithm can simply be described as:  \n",
    "\n",
    "```bash\n",
    "  arr = result_array\n",
    "  for a_given_product:  \n",
    "      for a_given_output_type:  \n",
    "          for iteration in list_of_iterations:  \n",
    "              concatenate(arr, result(iteration))\n",
    "              ``` \n",
    "\n",
    "This can be done by running the `concatenate_within_jobs.py` file. The syntax is:  \n",
    "\n",
    "The arguments to this function are: \n",
    "- **`base_dir`**, **`database_name`**, **`include_inventory`**, **`include_supply`**, **`include_matrices`**: all described above  \n",
    "- **`cpus`**: Number of CPUs to use to carry out this task  \n",
    "- **`delete_raw_files`**: Delete the small sample results. They are no longer needed after this task, and they take up lots of space, so don't hesitate to pass True. "
   ]
  },
  {
   "cell_type": "markdown",
   "metadata": {},
   "source": [
    "The following will concatenate the two jobs generated above, plus two others that were generated at some other point."
   ]
  },
  {
   "cell_type": "code",
   "execution_count": 28,
   "metadata": {
    "ExecuteTime": {
     "end_time": "2018-03-20T22:31:00.703320Z",
     "start_time": "2018-03-20T22:06:53.496532Z"
    }
   },
   "outputs": [
    {
     "name": "stdout",
     "output_type": "stream",
     "text": [
      "Processing jobs: ['c:/mypy/data/my_mcs\\\\db\\\\jobs\\\\DESKTOP-KUE8133_2018-3-20_16h43\\\\', 'c:/mypy/data/my_mcs\\\\db\\\\jobs\\\\DESKTOP-KUE8133_2018-3-20_16h49\\\\', 'c:/mypy/data/my_mcs\\\\db\\\\jobs\\\\DESKTOP-KUE8133_2018-3-20_17h41\\\\', 'c:/mypy/data/my_mcs\\\\db\\\\jobs\\\\DESKTOP-KUE8133_2018-3-20_17h56\\\\']\n",
      "All requested samples now concatenated within jobs. The next task: concatenate across jobs using concatenate_across_jobs.py\n"
     ]
    }
   ],
   "source": [
    "%run concatenate_within_jobs.py --base_dir=c:/mypy/data/my_mcs --database_name=db --cpus=8 --include_inventory=True --include_supply=True --include_matrices=True --delete_raw_files=False"
   ]
  },
  {
   "cell_type": "markdown",
   "metadata": {},
   "source": [
    "### Concatenating results across jobs"
   ]
  },
  {
   "cell_type": "markdown",
   "metadata": {},
   "source": [
    "The concatenated arrays within jobs can now be contatenated across jobs. The resulting arrays are stored in a new directory within base_dir/database_name: `results`  \n",
    "The file to call is `concatenate_across_jobs.py` and the arguments are:  \n",
    "- **`base_dir`**, **`database_name`**, **`project_name`**, **`include_inventory`**, **`include_supply`**, **`include_matrices`**: all described above  \n",
    "- **`delete_temps`**: Delete the concatenated arrays *within* each job. Normally, these are no longer used once all the samples are assembled in a single `results` directory, so there is no harm in passing `True`.  \n",
    "\n",
    "Some notes:  \n",
    "  - If temporary arrays concatenated from other jobs carried out on other computers are available, they can be used! They need to be stored in the correct location (within \"concatenated_arrays\" directories, in the correct subdirectories). The function will reorder the rows to make they are consistent.  \n",
    "  - New **`reference_documents`** are generated. these are:  \n",
    "    - A copy of `common_files` for the job that was taken as reference (for row orders)\n",
    "    - A series of useful documents for interpreting the arrays:  \n",
    "        - **`inventory_indices_mapping.xlsx`**, **`supply_indices_mapping.xlsx`**, **`A_indices_mapping.xlsx`**, **`B_indices_mapping.xlsx`**, : Excel spreadsheet that provides human-readable information about what is found in each row of each of the types of generated sample arrays.   \n",
    "        - **`activity_details.xlsx`**: Excel spreadsheet that provides human-readable information about activities in the database \n",
    "        - **`methods description.xlsx`**: Excel spreadsheet that provides human-readable information about the methods in Brightway2. Can be used to generate lists of methods to inlude in the LCIA calcualations (see below) \n"
   ]
  },
  {
   "cell_type": "code",
   "execution_count": 29,
   "metadata": {
    "ExecuteTime": {
     "end_time": "2018-03-20T23:13:45.829772Z",
     "start_time": "2018-03-20T22:31:00.716168Z"
    }
   },
   "outputs": [
    {
     "name": "stdout",
     "output_type": "stream",
     "text": [
      "Aggregating from jobs c:/mypy/data/my_mcs\\db\\jobs\\DESKTOP-KUE8133_2018-3-20_16h43\\\n",
      "Requested arrays successfully concatenated and saved to results\n"
     ]
    }
   ],
   "source": [
    "%run concatenate_across_jobs.py --base_dir=c:/mypy/data/my_mcs --database_name=db --project_name=my_mcs --include_inventory=True --include_supply=True --include_matrices=True --delete_temps=False"
   ]
  },
  {
   "cell_type": "markdown",
   "metadata": {},
   "source": [
    "### Generating LCIA score arrays\n",
    "Finally, the LCI arrays can be converted to LCIA score arrays using the file `calculate_LCIA.py`.  \n",
    "\n",
    "The code requires a list of methods for which LCIA scores are required. There are two options: \n",
    "- An argument **`method_shortlist_name`** can be used. This should be the name of a `pickle` file in the `results/reference_files`directory that contains a list of Brightway2-compliant names (e.g. tuples such as `('IPCC 2013', 'climate change', 'GWP 100a')`).  \n",
    "- If such a list is not found, LCIA score arrays will be calcualted for **all** LCIA impact categories (718 as of March 2018).  \n",
    "\n",
    "For convenience, an Excel with method descriptions and Brightway-compliant names, `method_descriptions.xlsx`, is also found in the `reference_file` directory. From it, one can get information on the impact categories, see their Brightway2-compliant names as well as their abbreviation, used as names of subdirectories for the LCIA arrays.  \n",
    "\n",
    "The function creates a new directory `LCIA` in the `results` directory. A subdirectory within `LCIA` is then created for each LCIA method for which score arrays were requested. Finally, in each of these directories, one LCIA score array will be found per activity in the database.  \n",
    "\n",
    "Multiprocessing can again be used to dispatch the work on multiple CPUs.\n",
    "\n",
    "The arguments are **`base_dir`**, **`database_name`**, **`project_name`**, and **`cpus`** and **`method_list_fp`**, all described above."
   ]
  },
  {
   "cell_type": "markdown",
   "metadata": {},
   "source": [
    "To facilitate the generation of the `method_list.pickle` file, a small convinience function was added to calculate_LCIA.py: `create_list_methods_from_xls`. Here is the procedure to use it:  \n",
    "\n",
    "- Copy the file `methods description.xlsx` found in the `results/reference_files` directory.  \n",
    "- Delete all rows for methods that are of no interest, leaving only those for which LCIA arrays are requested.  \n",
    "- Save the file under a new name.  \n",
    "- In Python, import the function `from LCIA_method_lister import create_list_methods_from_xlsx` (you need to be in the right directory)  \n",
    "- Call the function with the following arguments:  \n",
    "  - **`base_dir`**, **`database_name`**: as before  \n",
    "  - **`xls_fp`**: the filepath to the modified Excel sheet  \n",
    "  - **`out_name`**: the name of the output file, to be used in the `calculate_LCIA` function.  \n",
    "\n",
    "Let's use it to create a list that contains only two methods: IPCC2013 GWP 100a and ILCD midpoint impacts to human health form ozone layer depletion"
   ]
  },
  {
   "cell_type": "markdown",
   "metadata": {},
   "source": [
    "The modified Excel looks like this: "
   ]
  },
  {
   "cell_type": "code",
   "execution_count": 30,
   "metadata": {
    "ExecuteTime": {
     "end_time": "2018-03-20T23:13:45.863313Z",
     "start_time": "2018-03-20T23:13:45.847944Z"
    },
    "collapsed": true
   },
   "outputs": [],
   "source": [
    "import os"
   ]
  },
  {
   "cell_type": "code",
   "execution_count": 31,
   "metadata": {
    "ExecuteTime": {
     "end_time": "2018-03-20T23:13:45.888379Z",
     "start_time": "2018-03-20T23:13:45.875348Z"
    }
   },
   "outputs": [
    {
     "data": {
      "image/png": "[encoded data removed]",
      "text/plain": [
       "<IPython.core.display.Image object>"
      ]
     },
     "execution_count": 31,
     "metadata": {},
     "output_type": "execute_result"
    }
   ],
   "source": [
    "from IPython.display import Image\n",
    "cwd = os.getcwd()\n",
    "os.chdir(r'c:/mypy/code/database_wide_monte_carlo/examples/images')\n",
    "Image('method_search.png')"
   ]
  },
  {
   "cell_type": "markdown",
   "metadata": {},
   "source": [
    "The file was saved to `C:\\mypy\\data\\my_mcs\\db\\results\\reference_files\\methods_shortlist_example.xlsx`\n",
    "\n",
    "I now import the function:"
   ]
  },
  {
   "cell_type": "code",
   "execution_count": 32,
   "metadata": {
    "ExecuteTime": {
     "end_time": "2018-03-20T23:13:45.907430Z",
     "start_time": "2018-03-20T23:13:45.900411Z"
    },
    "collapsed": true
   },
   "outputs": [],
   "source": [
    "os.chdir(r'c:/mypy/code/database_wide_monte_carlo')\n",
    "from LCIA_method_lister import create_list_methods_from_xlsx"
   ]
  },
  {
   "cell_type": "markdown",
   "metadata": {},
   "source": [
    "And execute it: "
   ]
  },
  {
   "cell_type": "code",
   "execution_count": 33,
   "metadata": {
    "ExecuteTime": {
     "end_time": "2018-03-20T23:13:45.955562Z",
     "start_time": "2018-03-20T23:13:45.919465Z"
    }
   },
   "outputs": [
    {
     "name": "stdout",
     "output_type": "stream",
     "text": [
      "list saved to c:/mypy/data/my_mcs\\db\\results\\reference_files\\methods_shortlist_example.pickle\n"
     ]
    }
   ],
   "source": [
    "create_list_methods_from_xlsx(base_dir='c:/mypy/data/my_mcs',\n",
    "                              database_name='db',\n",
    "                              xlsx_name='methods_shortlist_example.xlsx')"
   ]
  },
  {
   "cell_type": "code",
   "execution_count": 34,
   "metadata": {
    "ExecuteTime": {
     "end_time": "2018-03-20T23:19:33.270467Z",
     "start_time": "2018-03-20T23:13:45.967097Z"
    }
   },
   "outputs": [
    {
     "name": "stdout",
     "output_type": "stream",
     "text": [
      "Calculating LCIA score arrays for the following categories:\n",
      "[('ILCD 1.0.8 2016 midpoint no LT', 'human health', 'ozone layer depletion'), ('IPCC 2013', 'climate change', 'GWP 100a')]\n"
     ]
    }
   ],
   "source": [
    "%run calculate_LCIA.py --base_dir=c:/mypy/data/my_mcs --project_name=my_mcs --database_name=db --cpus=8 --method_shortlist_name=methods_shortlist_example"
   ]
  },
  {
   "cell_type": "markdown",
   "metadata": {},
   "source": [
    "### Final structure\n",
    "The resulting structure is therefore, for *n* datasets and *m* iterations:  \n",
    "```bash  \n",
    "  |-- base_dir   \n",
    "  |   |-- database      \n",
    "  |   |   |-- jobs   \n",
    "  |   |   |   |-- ...\n",
    "  |   |   |-- results  \n",
    "  |   |   |   |   |-- reference files\n",
    "  |   |   |   |   |   |-- ...reference files described above\n",
    "  |   |   |   |   |-- LCI\n",
    "  |   |   |   |   |   |-- UUID_1.npy\n",
    "  |   |   |   |   |   |-- UUID_2.npy  \n",
    "  |   |   |   |   |   |-- ...\n",
    "  |   |   |   |   |   |-- UUID_n.npy    \n",
    "  |   |   |   |   |-- Supply\n",
    "  |   |   |   |   |   |-- UUID_1.npy\n",
    "  |   |   |   |   |   |-- UUID_2.npy  \n",
    "  |   |   |   |   |   |-- ...\n",
    "  |   |   |   |   |   |-- UUID_n.npy    \n",
    "  |   |   |   |   |-- Matrices\n",
    "  |   |   |   |   |   |-- A_matrix.npy\n",
    "  |   |   |   |   |   |-- B_matrix.npy  \n",
    "  |   |   |   |   |-- LCIA\n",
    "  |   |   |   |   |   |-- cml-2001ag.0d5f26ea96ba60424b25b2173464ea8b\n",
    "  |   |   |   |   |   |   |-- UUID_1.npy\n",
    "  |   |   |   |   |   |   |-- UUID_2.npy\n",
    "  |   |   |   |   |   |   |-- ...\n",
    "  |   |   |   |   |   |   |-- UUID_n.npy\n",
    "  |   |   |   |   |   |-- recipe-endpoint-ea-wo-ltho.fe0f5b1a20fee2c98494272e36df30f1\n",
    "  |   |   |   |   |   |   |-- UUID_1.npy\n",
    "  |   |   |   |   |   |   |-- UUID_2.npy\n",
    "  |   |   |   |   |   |   |-- ...\n",
    "  |   |   |   |   |   |   |-- UUID_n.npy\n",
    "```"
   ]
  },
  {
   "cell_type": "markdown",
   "metadata": {},
   "source": [
    "## A note on size"
   ]
  },
  {
   "cell_type": "markdown",
   "metadata": {},
   "source": [
    "While *generating* precalcualted samples for a database as large as ecoinvent v3.4 can take up a lot of disk space, storing LCIA score arrays for streamlined LCA software is much more acceptable. For example:  \n",
    "  - The size of one iteration is approximately 1 GB. This is split up as follows:  \n",
    "    - 2 MB for the matrice data  \n",
    "    - 850 MB for the supply arrays  \n",
    "    - Just under 150 MB for the LCI arrays  \n",
    "Note that only the last of these is actually required to generate LCIA score arrays, and that supply arrays, that take up the most space, are probably the least useful objects.  \n",
    "\n",
    "This means that, for a 5000 iteration sample for all 14889 datasets, LCI arrays will take up just under 1 TB of storage, which can easily fit on an external hard drive. The corresponding supply arrays, on the other hand, will take up over 5 TB, which can be more problematic.  \n",
    "\n",
    "A 5000 iteration sample for a single dataset and a single impact category takes up 40 KB. Fot the whole database, we are therefore looking at under 600 MB, which is quite acceptable in most circumstances.  \n",
    "\n",
    "Note that once the LCIA arrays have been generated, everything before it can be deleted.  "
   ]
  }
 ],
 "metadata": {
  "kernelspec": {
   "display_name": "Python 3.9.12 ('bw2_advLCA')",
   "language": "python",
   "name": "python3"
  },
  "language_info": {
   "codemirror_mode": {
    "name": "ipython",
    "version": 3
   },
   "file_extension": ".py",
   "mimetype": "text/x-python",
   "name": "python",
   "nbconvert_exporter": "python",
   "pygments_lexer": "ipython3",
   "version": "3.9.12"
  },
  "toc": {
   "nav_menu": {
    "height": "51px",
    "width": "174px"
   },
   "number_sections": true,
   "sideBar": true,
   "skip_h1_title": true,
   "title_cell": "Table of Contents",
   "title_sidebar": "Contents",
   "toc_cell": true,
   "toc_position": {},
   "toc_section_display": true,
   "toc_window_display": true
  },
  "varInspector": {
   "cols": {
    "lenName": 16,
    "lenType": 16,
    "lenVar": 40
   },
   "kernels_config": {
    "python": {
     "delete_cmd_postfix": "",
     "delete_cmd_prefix": "del ",
     "library": "var_list.py",
     "varRefreshCmd": "print(var_dic_list())"
    },
    "r": {
     "delete_cmd_postfix": ") ",
     "delete_cmd_prefix": "rm(",
     "library": "var_list.r",
     "varRefreshCmd": "cat(var_dic_list()) "
    }
   },
   "types_to_exclude": [
    "module",
    "function",
    "builtin_function_or_method",
    "instance",
    "_Feature"
   ],
   "window_display": false
  },
  "vscode": {
   "interpreter": {
    "hash": "62933b3e56f9a6e23d72ee52fd806629bf269e8861f47ecc003e32169b3834b2"
   }
  }
 },
 "nbformat": 4,
 "nbformat_minor": 2
}
