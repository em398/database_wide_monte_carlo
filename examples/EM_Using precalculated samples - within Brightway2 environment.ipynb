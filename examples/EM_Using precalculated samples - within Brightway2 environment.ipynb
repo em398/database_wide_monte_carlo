{
 "cells": [
  {
   "cell_type": "markdown",
   "metadata": {},
   "source": [
    "# Using precalculated samples arrays within the Brightway2 environment\n",
    "\n",
    "Pascal Lesage, CIRAIG  \n",
    "March 2018  \n",
    "\n",
    "Based on an examples published in:  \n",
    "\n",
    "Lesage, P., C. Mutel, U. Schenker and M. Margni (2018). Uncertainty analysis in LCA using precalculated aggregated datasets. The International Journal of Life Cycle Assessment. https://doi.org/10.1007/s11367-018-1444-x"
   ]
  },
  {
   "cell_type": "markdown",
   "metadata": {},
   "source": [
    "-----------"
   ]
  },
  {
   "cell_type": "markdown",
   "metadata": {},
   "source": [
    "## Objectives  \n",
    "Show how precalculated LCIA arrays generated with the `database_wide_monte_carlo` can be used to calculate LCA scores.  \n",
    "The example uses `Brightway2` and the `presamples` package."
   ]
  },
  {
   "cell_type": "markdown",
   "metadata": {},
   "source": [
    "## Fictional case study - the aluminium water bottle  \n",
    " - 150 gram water bottle made of secondary aluminium (new scrap)\n",
    " - Cradle-to-gate  \n",
    " - Only two unit processes: secondary aluminium, cold-impact extrusion.  \n",
    " - Other inputs (such as an interior polymer coating, bottle painting and packaging) are excluded from the simple example.\n",
    " - https://www.youtube.com/watch?v=ifl0-re-tV8#t=1m15s  \n",
    " - Impact method of interest: IPCC2013 GWP 100a"
   ]
  },
  {
   "cell_type": "markdown",
   "metadata": {},
   "source": [
    "## Methodology"
   ]
  },
  {
   "cell_type": "markdown",
   "metadata": {},
   "source": [
    "### Setting up the Brightway project and basic imports"
   ]
  },
  {
   "cell_type": "code",
   "execution_count": 1,
   "metadata": {
    "ExecuteTime": {
     "end_time": "2018-03-21T04:07:10.620134Z",
     "start_time": "2018-03-21T04:07:08.879503Z"
    },
    "collapsed": true
   },
   "outputs": [],
   "source": [
    "from brightway2 import *"
   ]
  },
  {
   "cell_type": "code",
   "execution_count": 3,
   "metadata": {
    "ExecuteTime": {
     "end_time": "2018-03-21T04:07:10.924032Z",
     "start_time": "2018-03-21T04:07:10.622145Z"
    },
    "collapsed": true
   },
   "outputs": [],
   "source": [
    "import numpy as np\n",
    "import pandas as pd\n",
    "import os\n",
    "import pyprind\n",
    "import matplotlib.pyplot as plt\n",
    "import seaborn as sns\n",
    "%matplotlib inline"
   ]
  },
  {
   "cell_type": "code",
   "execution_count": 4,
   "metadata": {
    "ExecuteTime": {
     "end_time": "2018-03-21T04:07:10.932171Z",
     "start_time": "2018-03-21T04:07:10.925999Z"
    },
    "collapsed": true
   },
   "outputs": [],
   "source": [
    "iterations = 5000"
   ]
  },
  {
   "cell_type": "code",
   "execution_count": 5,
   "metadata": {
    "ExecuteTime": {
     "end_time": "2018-03-21T04:07:10.948212Z",
     "start_time": "2018-03-21T04:07:10.935177Z"
    },
    "collapsed": true
   },
   "outputs": [],
   "source": [
    "def delete_and_setup(project_name, ecospold_dirpath, database_name):\n",
    "    if project_name in projects:\n",
    "        projects.delete_project(project_name, delete_dir=True)\n",
    "    projects.set_current(project_name)\n",
    "    bw2setup()\n",
    "    importer = SingleOutputEcospold2Importer(\n",
    "        dirpath=ecospold_dirpath,\n",
    "        db_name = database_name\n",
    "    )\n",
    "    importer.apply_strategies()\n",
    "    importer.write_database()\n",
    "    return None"
   ]
  },
  {
   "cell_type": "code",
   "execution_count": 11,
   "metadata": {
    "ExecuteTime": {
     "end_time": "2018-03-21T04:14:57.919650Z",
     "start_time": "2018-03-21T04:07:10.950217Z"
    }
   },
   "outputs": [
    {
     "name": "stdout",
     "output_type": "stream",
     "text": [
      "Creating default biosphere\n",
      "\n",
      "Applying strategy: normalize_units\n",
      "Applying strategy: drop_unspecified_subcategories\n",
      "Applying strategy: ensure_categories_are_tuples\n",
      "Applied 3 strategies in 0.01 seconds\n"
     ]
    },
    {
     "name": "stderr",
     "output_type": "stream",
     "text": [
      "Writing activities to SQLite3 database:\n",
      "0% [##############################] 100% | ETA: 00:00:00\n",
      "Total time elapsed: 00:00:00\n"
     ]
    },
    {
     "name": "stdout",
     "output_type": "stream",
     "text": [
      "Title: Writing activities to SQLite3 database:\n",
      "  Started: 09/28/2022 15:55:59\n",
      "  Finished: 09/28/2022 15:56:00\n",
      "  Total time elapsed: 00:00:00\n",
      "  CPU %: 82.70\n",
      "  Memory %: 10.68\n",
      "Created database: biosphere3\n",
      "Creating default LCIA methods\n",
      "\n",
      "Applying strategy: normalize_units\n",
      "Applying strategy: set_biosphere_type\n",
      "Applying strategy: fix_ecoinvent_38_lcia_implementation\n",
      "Applying strategy: drop_unspecified_subcategories\n",
      "Applying strategy: link_iterable_by_fields\n",
      "Applied 5 strategies in 1.95 seconds\n",
      "Wrote 975 LCIA methods with 254388 characterization factors\n",
      "Creating core data migrations\n",
      "\n",
      "Extracting XML data from 0 datasets\n",
      "Extracted 0 datasets in 0.07 seconds\n",
      "Applying strategy: normalize_units\n",
      "Applying strategy: update_ecoinvent_locations\n",
      "Applying strategy: remove_zero_amount_coproducts\n",
      "Applying strategy: remove_zero_amount_inputs_with_no_activity\n",
      "Applying strategy: remove_unnamed_parameters\n",
      "Applying strategy: es2_assign_only_product_with_amount_as_reference_product\n",
      "Applying strategy: assign_single_product_as_activity\n",
      "Applying strategy: create_composite_code\n",
      "Applying strategy: drop_unspecified_subcategories\n",
      "Applying strategy: fix_ecoinvent_flows_pre35\n",
      "Applying strategy: drop_temporary_outdated_biosphere_flows\n",
      "Applying strategy: link_biosphere_by_flow_uuid\n",
      "Applying strategy: link_internal_technosphere_by_composite_code\n",
      "Applying strategy: delete_exchanges_missing_activity\n",
      "Applying strategy: delete_ghost_exchanges\n",
      "Applying strategy: remove_uncertainty_from_negative_loss_exchanges\n",
      "Applying strategy: fix_unreasonably_high_lognormal_uncertainties\n",
      "Applying strategy: set_lognormal_loc_value\n",
      "Applying strategy: convert_activity_parameters_to_list\n",
      "Applying strategy: add_cpc_classification_from_single_reference_product\n",
      "Applying strategy: delete_none_synonyms\n",
      "Applied 21 strategies in 0.00 seconds\n"
     ]
    },
    {
     "ename": "WrongDatabase",
     "evalue": "Activity database must be db_UP, but set() was also found",
     "output_type": "error",
     "traceback": [
      "\u001b[1;31m---------------------------------------------------------------------------\u001b[0m",
      "\u001b[1;31mWrongDatabase\u001b[0m                             Traceback (most recent call last)",
      "\u001b[1;32mc:\\Users\\em398\\OneDrive - University of Bath\\Documents\\GitHub\\database_wide_monte_carlo\\examples\\EM_Using precalculated samples - within Brightway2 environment.ipynb Cell 11\u001b[0m in \u001b[0;36m<cell line: 1>\u001b[1;34m()\u001b[0m\n\u001b[1;32m----> <a href='vscode-notebook-cell:/c%3A/Users/em398/OneDrive%20-%20University%20of%20Bath/Documents/GitHub/database_wide_monte_carlo/examples/EM_Using%20precalculated%20samples%20-%20within%20Brightway2%20environment.ipynb#X14sZmlsZQ%3D%3D?line=0'>1</a>\u001b[0m delete_and_setup(\u001b[39m'\u001b[39;49m\u001b[39mmy_mcs_agg_EM\u001b[39;49m\u001b[39m'\u001b[39;49m, \u001b[39mr\u001b[39;49m\u001b[39m'\u001b[39;49m\u001b[39mC:\u001b[39;49m\u001b[39m\\\u001b[39;49m\u001b[39mUsers\u001b[39;49m\u001b[39m\\\u001b[39;49m\u001b[39mem398\u001b[39;49m\u001b[39m\\\u001b[39;49m\u001b[39mOneDrive - University of Bath\u001b[39;49m\u001b[39m\\\u001b[39;49m\u001b[39m4 Software and Data\u001b[39;49m\u001b[39m\\\u001b[39;49m\u001b[39mecoInvent\u001b[39;49m\u001b[39m\\\u001b[39;49m\u001b[39mEcoinvent_3_8\u001b[39;49m\u001b[39m'\u001b[39;49m,\u001b[39m'\u001b[39;49m\u001b[39mdb_UP\u001b[39;49m\u001b[39m'\u001b[39;49m)\n",
      "\u001b[1;32mc:\\Users\\em398\\OneDrive - University of Bath\\Documents\\GitHub\\database_wide_monte_carlo\\examples\\EM_Using precalculated samples - within Brightway2 environment.ipynb Cell 11\u001b[0m in \u001b[0;36mdelete_and_setup\u001b[1;34m(project_name, ecospold_dirpath, database_name)\u001b[0m\n\u001b[0;32m      <a href='vscode-notebook-cell:/c%3A/Users/em398/OneDrive%20-%20University%20of%20Bath/Documents/GitHub/database_wide_monte_carlo/examples/EM_Using%20precalculated%20samples%20-%20within%20Brightway2%20environment.ipynb#X14sZmlsZQ%3D%3D?line=5'>6</a>\u001b[0m importer \u001b[39m=\u001b[39m SingleOutputEcospold2Importer(\n\u001b[0;32m      <a href='vscode-notebook-cell:/c%3A/Users/em398/OneDrive%20-%20University%20of%20Bath/Documents/GitHub/database_wide_monte_carlo/examples/EM_Using%20precalculated%20samples%20-%20within%20Brightway2%20environment.ipynb#X14sZmlsZQ%3D%3D?line=6'>7</a>\u001b[0m     dirpath\u001b[39m=\u001b[39mecospold_dirpath,\n\u001b[0;32m      <a href='vscode-notebook-cell:/c%3A/Users/em398/OneDrive%20-%20University%20of%20Bath/Documents/GitHub/database_wide_monte_carlo/examples/EM_Using%20precalculated%20samples%20-%20within%20Brightway2%20environment.ipynb#X14sZmlsZQ%3D%3D?line=7'>8</a>\u001b[0m     db_name \u001b[39m=\u001b[39m database_name\n\u001b[0;32m      <a href='vscode-notebook-cell:/c%3A/Users/em398/OneDrive%20-%20University%20of%20Bath/Documents/GitHub/database_wide_monte_carlo/examples/EM_Using%20precalculated%20samples%20-%20within%20Brightway2%20environment.ipynb#X14sZmlsZQ%3D%3D?line=8'>9</a>\u001b[0m )\n\u001b[0;32m     <a href='vscode-notebook-cell:/c%3A/Users/em398/OneDrive%20-%20University%20of%20Bath/Documents/GitHub/database_wide_monte_carlo/examples/EM_Using%20precalculated%20samples%20-%20within%20Brightway2%20environment.ipynb#X14sZmlsZQ%3D%3D?line=9'>10</a>\u001b[0m importer\u001b[39m.\u001b[39mapply_strategies()\n\u001b[1;32m---> <a href='vscode-notebook-cell:/c%3A/Users/em398/OneDrive%20-%20University%20of%20Bath/Documents/GitHub/database_wide_monte_carlo/examples/EM_Using%20precalculated%20samples%20-%20within%20Brightway2%20environment.ipynb#X14sZmlsZQ%3D%3D?line=10'>11</a>\u001b[0m importer\u001b[39m.\u001b[39;49mwrite_database()\n\u001b[0;32m     <a href='vscode-notebook-cell:/c%3A/Users/em398/OneDrive%20-%20University%20of%20Bath/Documents/GitHub/database_wide_monte_carlo/examples/EM_Using%20precalculated%20samples%20-%20within%20Brightway2%20environment.ipynb#X14sZmlsZQ%3D%3D?line=11'>12</a>\u001b[0m \u001b[39mreturn\u001b[39;00m \u001b[39mNone\u001b[39;00m\n",
      "File \u001b[1;32mc:\\Users\\em398\\Anaconda3\\envs\\bw2_seminar\\lib\\site-packages\\bw2io\\importers\\base_lci.py:237\u001b[0m, in \u001b[0;36mLCIImporter.write_database\u001b[1;34m(self, data, delete_existing, backend, activate_parameters, **kwargs)\u001b[0m\n\u001b[0;32m    233\u001b[0m \u001b[39mif\u001b[39;00m {o[\u001b[39m\"\u001b[39m\u001b[39mdatabase\u001b[39m\u001b[39m\"\u001b[39m] \u001b[39mfor\u001b[39;00m o \u001b[39min\u001b[39;00m data} \u001b[39m!=\u001b[39m {\u001b[39mself\u001b[39m\u001b[39m.\u001b[39mdb_name}:\n\u001b[0;32m    234\u001b[0m     error \u001b[39m=\u001b[39m \u001b[39m\"\u001b[39m\u001b[39mActivity database must be \u001b[39m\u001b[39m{}\u001b[39;00m\u001b[39m, but \u001b[39m\u001b[39m{}\u001b[39;00m\u001b[39m was also found\u001b[39m\u001b[39m\"\u001b[39m\u001b[39m.\u001b[39mformat(\n\u001b[0;32m    235\u001b[0m         \u001b[39mself\u001b[39m\u001b[39m.\u001b[39mdb_name, {o[\u001b[39m\"\u001b[39m\u001b[39mdatabase\u001b[39m\u001b[39m\"\u001b[39m] \u001b[39mfor\u001b[39;00m o \u001b[39min\u001b[39;00m data}\u001b[39m.\u001b[39mdifference({\u001b[39mself\u001b[39m\u001b[39m.\u001b[39mdb_name})\n\u001b[0;32m    236\u001b[0m     )\n\u001b[1;32m--> 237\u001b[0m     \u001b[39mraise\u001b[39;00m WrongDatabase(error)\n\u001b[0;32m    238\u001b[0m \u001b[39mif\u001b[39;00m \u001b[39mlen\u001b[39m({o[\u001b[39m\"\u001b[39m\u001b[39mcode\u001b[39m\u001b[39m\"\u001b[39m] \u001b[39mfor\u001b[39;00m o \u001b[39min\u001b[39;00m data}) \u001b[39m<\u001b[39m \u001b[39mlen\u001b[39m(data):\n\u001b[0;32m    239\u001b[0m     seen, duplicates \u001b[39m=\u001b[39m \u001b[39mset\u001b[39m(), []\n",
      "\u001b[1;31mWrongDatabase\u001b[0m: Activity database must be db_UP, but set() was also found"
     ]
    }
   ],
   "source": [
    "delete_and_setup('my_mcs_agg_EM', r'C:\\Users\\em398\\OneDrive - University of Bath\\4 Software and Data\\ecoInvent\\Ecoinvent_3_8','db_UP')"
   ]
  },
  {
   "cell_type": "code",
   "execution_count": 6,
   "metadata": {
    "ExecuteTime": {
     "end_time": "2018-03-21T04:14:57.931255Z",
     "start_time": "2018-03-21T04:14:57.921655Z"
    }
   },
   "outputs": [
    {
     "data": {
      "text/plain": [
       "Databases dictionary with 2 object(s):\n",
       "\tbiosphere3\n",
       "\tdb_UP"
      ]
     },
     "execution_count": 6,
     "metadata": {},
     "output_type": "execute_result"
    }
   ],
   "source": [
    "databases"
   ]
  },
  {
   "cell_type": "code",
   "execution_count": 7,
   "metadata": {
    "ExecuteTime": {
     "end_time": "2018-03-21T04:14:57.947714Z",
     "start_time": "2018-03-21T04:14:57.934484Z"
    },
    "collapsed": true
   },
   "outputs": [],
   "source": [
    "db_UP = Database('db_UP')"
   ]
  },
  {
   "cell_type": "code",
   "execution_count": 8,
   "metadata": {
    "ExecuteTime": {
     "end_time": "2018-03-21T04:14:57.963307Z",
     "start_time": "2018-03-21T04:14:57.950279Z"
    }
   },
   "outputs": [],
   "source": [
    "if 'bottle example database' in databases: \n",
    "    Database('bottle example database').delete()\n",
    "    Database('bottle example database').deregister()"
   ]
  },
  {
   "cell_type": "markdown",
   "metadata": {},
   "source": [
    "### LCA without the presampled arrays"
   ]
  },
  {
   "cell_type": "markdown",
   "metadata": {},
   "source": [
    "#### Identify the inputs"
   ]
  },
  {
   "cell_type": "code",
   "execution_count": 9,
   "metadata": {
    "ExecuteTime": {
     "end_time": "2018-03-21T04:14:59.642165Z",
     "start_time": "2018-03-21T04:14:57.966321Z"
    }
   },
   "outputs": [
    {
     "data": {
      "text/plain": [
       "'treatment of aluminium scrap, post-consumer, prepared for recycling, at refiner' (kilogram, RER, None)"
      ]
     },
     "execution_count": 9,
     "metadata": {},
     "output_type": "execute_result"
    }
   ],
   "source": [
    "aluminium_UP = act = [act for act in db_UP if \n",
    "                   \"treatment of aluminium scrap, post-consumer, prepared for recycling, at refiner\" in act['name']\n",
    "                   and 'aluminium, cast alloy' in act['reference product']\n",
    "                   and act['location']=='RER'\n",
    "                  ][0]\n",
    "aluminium_UP"
   ]
  },
  {
   "cell_type": "code",
   "execution_count": 10,
   "metadata": {
    "ExecuteTime": {
     "end_time": "2018-03-21T04:15:01.241692Z",
     "start_time": "2018-03-21T04:14:59.643168Z"
    }
   },
   "outputs": [
    {
     "data": {
      "text/plain": [
       "'impact extrusion of aluminium, 1 stroke' (kilogram, RER, None)"
      ]
     },
     "execution_count": 10,
     "metadata": {},
     "output_type": "execute_result"
    }
   ],
   "source": [
    "# Cold impacts extrusion\n",
    "extrusion_UP = [act for act in db_UP\n",
    "             if 'impact extrusion of aluminium, 1 stroke' in act['name']\n",
    "            and act['location']=='RER'][0]\n",
    "extrusion_UP"
   ]
  },
  {
   "cell_type": "markdown",
   "metadata": {},
   "source": [
    "#### Defining the new water bottle activity programmatically"
   ]
  },
  {
   "cell_type": "code",
   "execution_count": 11,
   "metadata": {
    "ExecuteTime": {
     "end_time": "2018-03-21T04:15:01.505015Z",
     "start_time": "2018-03-21T04:15:01.242695Z"
    }
   },
   "outputs": [
    {
     "name": "stderr",
     "output_type": "stream",
     "text": [
      "Writing activities to SQLite3 database:\n",
      "0%  100%\n",
      "[#] | ETA: 00:00:00\n",
      "Total time elapsed: 00:00:00\n"
     ]
    },
    {
     "name": "stdout",
     "output_type": "stream",
     "text": [
      "Title: Writing activities to SQLite3 database:\n",
      "  Started: 03/21/2018 00:15:01\n",
      "  Finished: 03/21/2018 00:15:01\n",
      "  Total time elapsed: 00:00:00\n",
      "  CPU %: 0.00\n",
      "  Memory %: 4.24\n"
     ]
    }
   ],
   "source": [
    "bottle_example_db = Database('bottle example database UP')\n",
    "bottle_example_db.write(\n",
    "    {('bottle example database UP', 'aluminium bottle production'): \n",
    "        {'name': 'aluminium bottle',\n",
    "         'unit': 'amount', \n",
    "            'exchanges': \n",
    "            [\n",
    "                {'input': aluminium_UP.key,\n",
    "                 'amount': 0.150, #weight of the water bottle\n",
    "                 'type': 'technosphere'},\n",
    "                {'input': extrusion_UP.key,\n",
    "                 'amount': 0.150, #weight of the water bottle = amount of impact extrusion required\n",
    "                 'type': 'technosphere'},\n",
    "                {'input': ('bottle example database UP', 'aluminium bottle production'),\n",
    "                 'amount': 1,\n",
    "                 'type': 'production'}\n",
    "            ]\n",
    "        },\n",
    "    })"
   ]
  },
  {
   "cell_type": "code",
   "execution_count": 12,
   "metadata": {
    "ExecuteTime": {
     "end_time": "2018-03-21T04:15:01.525244Z",
     "start_time": "2018-03-21T04:15:01.510450Z"
    }
   },
   "outputs": [
    {
     "data": {
      "text/plain": [
       "'aluminium bottle' (amount, None, None)"
      ]
     },
     "execution_count": 12,
     "metadata": {},
     "output_type": "execute_result"
    }
   ],
   "source": [
    "bottle_production_UP = get_activity(('bottle example database UP', 'aluminium bottle production'))\n",
    "bottle_production_UP"
   ]
  },
  {
   "cell_type": "markdown",
   "metadata": {},
   "source": [
    "#### Identifying the relevant LCIA impact categories"
   ]
  },
  {
   "cell_type": "code",
   "execution_count": 13,
   "metadata": {
    "ExecuteTime": {
     "end_time": "2018-03-21T04:15:01.557541Z",
     "start_time": "2018-03-21T04:15:01.531262Z"
    }
   },
   "outputs": [
    {
     "data": {
      "text/plain": [
       "('IPCC 2013', 'climate change', 'GWP 100a')"
      ]
     },
     "execution_count": 13,
     "metadata": {},
     "output_type": "execute_result"
    }
   ],
   "source": [
    "cc_method = [m for m in methods if 'IPCC 2013' in str(m)\n",
    "                                and 'GWP' in str(m)\n",
    "                                and '100' in str(m)][0]\n",
    "cc_method"
   ]
  },
  {
   "cell_type": "code",
   "execution_count": 14,
   "metadata": {
    "ExecuteTime": {
     "end_time": "2018-03-21T04:15:01.594591Z",
     "start_time": "2018-03-21T04:15:01.563687Z"
    }
   },
   "outputs": [
    {
     "data": {
      "text/plain": [
       "('ILCD 1.0.8 2016 midpoint no LT', 'human health', 'ozone layer depletion')"
      ]
     },
     "execution_count": 14,
     "metadata": {},
     "output_type": "execute_result"
    }
   ],
   "source": [
    "o3_method = [m for m in methods if 'ILCD' in str(m)\n",
    "                                and 'human health' in str(m)\n",
    "                                and 'ozone layer depletion' in str(m)\n",
    "                                and 'no LT' in str(m)][0]\n",
    "o3_method"
   ]
  },
  {
   "cell_type": "markdown",
   "metadata": {},
   "source": [
    "#### Carrying out the LCA on bottle production - unit processes"
   ]
  },
  {
   "cell_type": "code",
   "execution_count": 15,
   "metadata": {
    "ExecuteTime": {
     "end_time": "2018-03-21T04:15:02.624765Z",
     "start_time": "2018-03-21T04:15:01.600609Z"
    }
   },
   "outputs": [
    {
     "data": {
      "text/plain": [
       "(0.31352267634550995, 1.8287361660406905e-08)"
      ]
     },
     "execution_count": 15,
     "metadata": {},
     "output_type": "execute_result"
    }
   ],
   "source": [
    "# Unit process LCA - Bottle\n",
    "bottle_lca_UP = LCA({bottle_production_UP:1}, method=cc_method)\n",
    "bottle_lca_UP.lci()\n",
    "bottle_lca_UP.lcia()\n",
    "bottle_lca_UP_cc_score = bottle_lca_UP.score\n",
    "bottle_lca_UP.switch_method(o3_method)\n",
    "bottle_lca_UP.lcia()\n",
    "bottle_lca_UP_o3_score = bottle_lca_UP.score\n",
    "bottle_lca_UP_cc_score, bottle_lca_UP_o3_score"
   ]
  },
  {
   "cell_type": "markdown",
   "metadata": {},
   "source": [
    "#### Carrying out the Monte Carlo simulation on bottle production for both impact categories"
   ]
  },
  {
   "cell_type": "code",
   "execution_count": 16,
   "metadata": {
    "ExecuteTime": {
     "end_time": "2018-03-21T04:40:50.138688Z",
     "start_time": "2018-03-21T04:15:02.626742Z"
    }
   },
   "outputs": [
    {
     "name": "stderr",
     "output_type": "stream",
     "text": [
      "0%                          100%\n",
      "[##############################] | ETA: 00:00:00\n",
      "Total time elapsed: 00:25:47\n"
     ]
    },
    {
     "data": {
      "text/plain": [
       "array([ 0.45838164,  0.34773437,  0.33257998, ...,  0.37121161,\n",
       "        0.36620492,  0.34501008])"
      ]
     },
     "execution_count": 16,
     "metadata": {},
     "output_type": "execute_result"
    }
   ],
   "source": [
    "mc_bottle_cc_UP = MonteCarloLCA({bottle_production_UP:1}, method=cc_method)\n",
    "scores_bottle_cc_UP = [next(mc_bottle_cc_UP) for _ in pyprind.prog_bar(range(iterations))]\n",
    "scores_arr_bottle_cc_UP = np.array(scores_bottle_cc_UP)\n",
    "scores_arr_bottle_cc_UP"
   ]
  },
  {
   "cell_type": "code",
   "execution_count": 17,
   "metadata": {
    "ExecuteTime": {
     "end_time": "2018-03-21T05:04:21.519008Z",
     "start_time": "2018-03-21T04:40:50.142287Z"
    }
   },
   "outputs": [
    {
     "name": "stderr",
     "output_type": "stream",
     "text": [
      "0%                          100%\n",
      "[##############################] | ETA: 00:00:00\n",
      "Total time elapsed: 00:23:31\n"
     ]
    },
    {
     "data": {
      "text/plain": [
       "array([  2.43414114e-08,   2.93892330e-08,   2.89831060e-08, ...,\n",
       "         3.98467522e-08,   2.64191927e-08,   4.59791529e-08])"
      ]
     },
     "execution_count": 17,
     "metadata": {},
     "output_type": "execute_result"
    }
   ],
   "source": [
    "mc_bottle_o3_UP = MonteCarloLCA({bottle_production_UP:1}, method=o3_method)\n",
    "scores_bottle_o3_UP = [next(mc_bottle_o3_UP) for _ in pyprind.prog_bar(range(iterations))]\n",
    "scores_arr_bottle_o3_UP = np.array(scores_bottle_o3_UP)\n",
    "scores_arr_bottle_o3_UP"
   ]
  },
  {
   "cell_type": "code",
   "execution_count": 51,
   "metadata": {
    "ExecuteTime": {
     "end_time": "2018-03-21T05:26:24.383837Z",
     "start_time": "2018-03-21T05:26:24.243969Z"
    }
   },
   "outputs": [
    {
     "data": {
      "image/png": "[encoded data removed]",
      "text/plain": [
       "<matplotlib.figure.Figure at 0x17e79e12eb8>"
      ]
     },
     "metadata": {},
     "output_type": "display_data"
    }
   ],
   "source": [
    "# CC\n",
    "plt.hist(scores_arr_bottle_cc_UP, histtype='step', normed=True, bins=100)\n",
    "plt.xlabel(\"{}/bottle\".format(Method(cc_method).metadata['unit']))\n",
    "plt.ylabel(\"Frequency\")\n",
    "plt.legend()\n",
    "plt.title(\"Monte Carlo results\\n{}\\nUnit processes\".format(cc_method));"
   ]
  },
  {
   "cell_type": "code",
   "execution_count": 52,
   "metadata": {
    "ExecuteTime": {
     "end_time": "2018-03-21T05:26:35.015024Z",
     "start_time": "2018-03-21T05:26:34.893181Z"
    }
   },
   "outputs": [
    {
     "data": {
      "image/png": "[encoded data removed]",
      "text/plain": [
       "<matplotlib.figure.Figure at 0x17e79e12588>"
      ]
     },
     "metadata": {},
     "output_type": "display_data"
    }
   ],
   "source": [
    "# O3\n",
    "plt.hist(scores_arr_bottle_o3_UP, histtype='step', normed=True, bins=100)\n",
    "plt.xlabel(\"{}/bottle\".format(Method(o3_method).metadata['unit']))\n",
    "plt.ylabel(\"Frequency\")\n",
    "plt.legend()\n",
    "plt.title(\"Monte Carlo results\\n{}\\nUnit processes\".format(o3_method));"
   ]
  },
  {
   "cell_type": "markdown",
   "metadata": {},
   "source": [
    "## Aggregated datasets"
   ]
  },
  {
   "cell_type": "markdown",
   "metadata": {},
   "source": [
    "The LCIA scores that were generated using `database_wide_monte_carlo` are identical to characterized aggregated LCI datasets. Before we see how to use them (Section 5), we see how to include aggregated datasets in Brightway."
   ]
  },
  {
   "cell_type": "markdown",
   "metadata": {},
   "source": [
    "### Augmenting the `biosphere3` database"
   ]
  },
  {
   "cell_type": "markdown",
   "metadata": {},
   "source": [
    "The LCIA score arrays are expressed in the units of the impact categories (kg CO2-Eq, kg CFC-11-Eq). \n",
    "\n",
    "To be able to use the score arrays in LCA calculation (system-->inventory-->LCIA scores), we \"trick\" Brightway into treating these LCIA scores as elementary flows that have a characterization factor of 1. \n",
    "\n",
    "To do this, we first add to the database one elementary flow per impact category that represents a \"unit impact per unit impact\" characterization factor.  \n",
    "\n",
    "A function that does this is found [here](https://github.com/PascalLesage/bw_utils/blob/master/augment_biosphere3.py).\n",
    "\n",
    "To run it, simply copy the file to your computer and run it (no package, sorry).  "
   ]
  },
  {
   "cell_type": "code",
   "execution_count": 20,
   "metadata": {
    "ExecuteTime": {
     "end_time": "2018-03-21T05:04:22.040728Z",
     "start_time": "2018-03-21T05:04:22.035714Z"
    },
    "collapsed": true
   },
   "outputs": [],
   "source": [
    "os.chdir(r'C:\\mypy\\code\\bw_utils')"
   ]
  },
  {
   "cell_type": "code",
   "execution_count": 21,
   "metadata": {
    "ExecuteTime": {
     "end_time": "2018-03-21T05:04:22.076443Z",
     "start_time": "2018-03-21T05:04:22.043736Z"
    },
    "collapsed": true
   },
   "outputs": [],
   "source": [
    "from augment_biosphere3 import addUnitImpactFlowsToBiosphereAndMethods"
   ]
  },
  {
   "cell_type": "code",
   "execution_count": 22,
   "metadata": {
    "ExecuteTime": {
     "end_time": "2018-03-21T05:05:03.709897Z",
     "start_time": "2018-03-21T05:04:22.079451Z"
    }
   },
   "outputs": [
    {
     "name": "stderr",
     "output_type": "stream",
     "text": [
      "Writing activities to SQLite3 database:\n",
      "0%                          100%\n",
      "[##############################] | ETA: 00:00:00\n",
      "Total time elapsed: 00:00:01\n"
     ]
    },
    {
     "name": "stdout",
     "output_type": "stream",
     "text": [
      "Title: Writing activities to SQLite3 database:\n",
      "  Started: 03/21/2018 01:04:22\n",
      "  Finished: 03/21/2018 01:04:24\n",
      "  Total time elapsed: 00:00:01\n",
      "  CPU %: 60.90\n",
      "  Memory %: 1.90\n"
     ]
    }
   ],
   "source": [
    "addUnitImpactFlowsToBiosphereAndMethods()"
   ]
  },
  {
   "cell_type": "markdown",
   "metadata": {},
   "source": [
    "We can see the new characterization factor for climate change: "
   ]
  },
  {
   "cell_type": "code",
   "execution_count": 23,
   "metadata": {
    "ExecuteTime": {
     "end_time": "2018-03-21T05:05:03.725273Z",
     "start_time": "2018-03-21T05:05:03.712272Z"
    }
   },
   "outputs": [
    {
     "data": {
      "text/plain": [
       "[(('biosphere3', 'ipcc-2013cg.bd5af3f67229a1cc291b8ecb7f316fcf'), 1)]"
      ]
     },
     "execution_count": 23,
     "metadata": {},
     "output_type": "execute_result"
    }
   ],
   "source": [
    "[ef for ef in Method(cc_method).load() if Method(cc_method).get_abbreviation() in ef[0]]"
   ]
  },
  {
   "cell_type": "markdown",
   "metadata": {},
   "source": [
    "Here is a short function that will copy a unit process and convert it to a characterized aggregated LCI dataset:"
   ]
  },
  {
   "cell_type": "code",
   "execution_count": 24,
   "metadata": {
    "ExecuteTime": {
     "end_time": "2018-03-21T05:05:03.784844Z",
     "start_time": "2018-03-21T05:05:03.727279Z"
    },
    "collapsed": true
   },
   "outputs": [],
   "source": [
    "def convert_act_to_score_S(act_UP, db_S, list_methods):\n",
    "    # Make sure activity and methods exist\n",
    "    assert isinstance(list_methods, list), \"Methods should be a list of methods\"\n",
    "    for m in list_methods:\n",
    "        assert m in methods, \"{} is not a recognized method name\"\n",
    "    assert \"Activity\" in str(type(act_UP))\n",
    "    # Create a new database for S datasets if one doesn't already exist\n",
    "    if db_S not in databases:\n",
    "        Database(db_S).register()\n",
    "    # Create a copy of the UP activity in the S database\n",
    "    act_S = act_UP.copy(database=db_S, code=act_UP.key[1])\n",
    "    # Remove all exchanges except the production exchange\n",
    "    for exc in act_S.technosphere():\n",
    "        exc.delete()\n",
    "    for exc in act_S.biosphere():\n",
    "        exc.delete()\n",
    "    # Create an LCA object to calculate LCIA scores\n",
    "    lca = LCA({act_UP:1})\n",
    "    lca.lci()\n",
    "    # Add LCIA scores for each method\n",
    "    # The elementary flow key is ('biosphere3', method_abbreviation)\n",
    "    for m in list_methods:\n",
    "        new_exc = act_S.new_exchange()\n",
    "        new_exc['input'] = ('biosphere3',\n",
    "                            Method(m).get_abbreviation()\n",
    "                           )\n",
    "        new_exc['output'] = act_S.key\n",
    "        lca.switch_method(m)\n",
    "        lca.lcia()\n",
    "        new_exc['amount'] = lca.score\n",
    "        new_exc['type'] = 'biosphere'\n",
    "        new_exc.save()\n",
    "    # Save the activity\n",
    "    act_S.save()\n",
    "    return act_S"
   ]
  },
  {
   "cell_type": "markdown",
   "metadata": {},
   "source": [
    "First, let's convert the aluminium dataset:"
   ]
  },
  {
   "cell_type": "code",
   "execution_count": 25,
   "metadata": {
    "ExecuteTime": {
     "end_time": "2018-03-21T05:05:06.355859Z",
     "start_time": "2018-03-21T05:05:03.788864Z"
    }
   },
   "outputs": [],
   "source": [
    "aluminium_S = convert_act_to_score_S(aluminium_UP, 'bd_S', [cc_method, o3_method])"
   ]
  },
  {
   "cell_type": "code",
   "execution_count": 26,
   "metadata": {
    "ExecuteTime": {
     "end_time": "2018-03-21T05:05:06.363880Z",
     "start_time": "2018-03-21T05:05:06.357864Z"
    }
   },
   "outputs": [
    {
     "data": {
      "text/plain": [
       "'treatment of aluminium scrap, post-consumer, prepared for recycling, at refiner' (kilogram, RER, None)"
      ]
     },
     "execution_count": 26,
     "metadata": {},
     "output_type": "execute_result"
    }
   ],
   "source": [
    "aluminium_S"
   ]
  },
  {
   "cell_type": "markdown",
   "metadata": {},
   "source": [
    "Let's make sure it does not have any technosphere inputs:"
   ]
  },
  {
   "cell_type": "code",
   "execution_count": 27,
   "metadata": {
    "ExecuteTime": {
     "end_time": "2018-03-21T05:05:06.382931Z",
     "start_time": "2018-03-21T05:05:06.366889Z"
    }
   },
   "outputs": [
    {
     "data": {
      "text/plain": [
       "[]"
      ]
     },
     "execution_count": 27,
     "metadata": {},
     "output_type": "execute_result"
    }
   ],
   "source": [
    "[*aluminium_S.technosphere()]"
   ]
  },
  {
   "cell_type": "markdown",
   "metadata": {},
   "source": [
    "It should only have two elementary flows: "
   ]
  },
  {
   "cell_type": "code",
   "execution_count": 28,
   "metadata": {
    "ExecuteTime": {
     "end_time": "2018-03-21T05:05:06.404991Z",
     "start_time": "2018-03-21T05:05:06.385939Z"
    }
   },
   "outputs": [
    {
     "data": {
      "text/plain": [
       "[Exchange: 1.0485063442987095 kg CO2-Eq 'Unit impact for ('IPCC 2013', 'climate change', 'GWP 100a')' (kg CO2-Eq, None, ('undefined',)) to 'treatment of aluminium scrap, post-consumer, prepared for recycling, at refiner' (kilogram, RER, None)>,\n",
       " Exchange: 6.412753664966969e-08 kg CFC-11-Eq 'Unit impact for ('ILCD 1.0.8 2016 midpoint no LT', 'human health', 'ozone layer depletion')' (kg CFC-11-Eq, None, ('undefined',)) to 'treatment of aluminium scrap, post-consumer, prepared for recycling, at refiner' (kilogram, RER, None)>]"
      ]
     },
     "execution_count": 28,
     "metadata": {},
     "output_type": "execute_result"
    }
   ],
   "source": [
    "[*aluminium_S.biosphere()]"
   ]
  },
  {
   "cell_type": "markdown",
   "metadata": {},
   "source": [
    "The score of the LCA for an aggregated activity should be the same as that of a unit process:"
   ]
  },
  {
   "cell_type": "code",
   "execution_count": 29,
   "metadata": {
    "ExecuteTime": {
     "end_time": "2018-03-21T05:05:06.874749Z",
     "start_time": "2018-03-21T05:05:06.407999Z"
    }
   },
   "outputs": [
    {
     "data": {
      "text/plain": [
       "(0.9999999667824692, 1.0000000490284213)"
      ]
     },
     "execution_count": 29,
     "metadata": {},
     "output_type": "execute_result"
    }
   ],
   "source": [
    "# Unit process LCA\n",
    "alu_lca_UP = LCA({aluminium_UP:1}, method=cc_method)\n",
    "alu_lca_UP.lci()\n",
    "alu_lca_UP.lcia()\n",
    "alu_lca_UP_cc_score = alu_lca_UP.score\n",
    "alu_lca_UP.switch_method(o3_method)\n",
    "alu_lca_UP.lcia()\n",
    "alu_lca_UP_o3_score = alu_lca_UP.score\n",
    "\n",
    "# Aggregated process LCA \n",
    "alu_lca_S = LCA({aluminium_S:1}, method=cc_method)\n",
    "alu_lca_S.lci()\n",
    "alu_lca_S.lcia()\n",
    "alu_lca_S_cc_score = alu_lca_S.score\n",
    "alu_lca_S.switch_method(o3_method)\n",
    "alu_lca_S.lcia()\n",
    "alu_lca_S_o3_score = alu_lca_S.score\n",
    "\n",
    "# Comparison\n",
    "alu_lca_UP_cc_score/alu_lca_S_cc_score, alu_lca_UP_o3_score/alu_lca_S_o3_score"
   ]
  },
  {
   "cell_type": "markdown",
   "metadata": {},
   "source": [
    "Let's generate an aggregated dataset for extrusion as well:"
   ]
  },
  {
   "cell_type": "code",
   "execution_count": 30,
   "metadata": {
    "ExecuteTime": {
     "end_time": "2018-03-21T05:05:08.078891Z",
     "start_time": "2018-03-21T05:05:06.876754Z"
    }
   },
   "outputs": [],
   "source": [
    "extrusion_S = convert_act_to_score_S(extrusion_UP, 'bd_S', [cc_method, o3_method])"
   ]
  },
  {
   "cell_type": "markdown",
   "metadata": {},
   "source": [
    "And a new bottle activity that uses the aggregated datasets rather than the unit processes:"
   ]
  },
  {
   "cell_type": "code",
   "execution_count": 31,
   "metadata": {
    "ExecuteTime": {
     "end_time": "2018-03-21T05:05:08.275657Z",
     "start_time": "2018-03-21T05:05:08.080398Z"
    }
   },
   "outputs": [
    {
     "name": "stderr",
     "output_type": "stream",
     "text": [
      "Writing activities to SQLite3 database:\n",
      "0%  100%\n",
      "[#] | ETA: 00:00:00\n",
      "Total time elapsed: 00:00:00\n"
     ]
    },
    {
     "name": "stdout",
     "output_type": "stream",
     "text": [
      "Title: Writing activities to SQLite3 database:\n",
      "  Started: 03/21/2018 01:05:08\n",
      "  Finished: 03/21/2018 01:05:08\n",
      "  Total time elapsed: 00:00:00\n",
      "  CPU %: 390.60\n",
      "  Memory %: 2.62\n"
     ]
    }
   ],
   "source": [
    "bottle_example_db = Database('bottle example database S')\n",
    "bottle_example_db.write(\n",
    "    {('bottle example database S', 'aluminium bottle production'): \n",
    "        {'name': 'aluminium bottle',\n",
    "         'unit': 'amount', \n",
    "            'exchanges': \n",
    "            [\n",
    "                {'input': aluminium_S.key,\n",
    "                 'amount': 0.150, #weight of the water bottle\n",
    "                 'type': 'technosphere'},\n",
    "                {'input': extrusion_S.key,\n",
    "                 'amount': 0.150, #weight of the water bottle = amount of impact extrusion required\n",
    "                 'type': 'technosphere'},\n",
    "                {'input': ('bottle example database S', 'aluminium bottle production'),\n",
    "                 'amount': 1,\n",
    "                 'type': 'production'}\n",
    "            ]\n",
    "        },\n",
    "    })"
   ]
  },
  {
   "cell_type": "code",
   "execution_count": 32,
   "metadata": {
    "ExecuteTime": {
     "end_time": "2018-03-21T05:05:08.289193Z",
     "start_time": "2018-03-21T05:05:08.277662Z"
    }
   },
   "outputs": [
    {
     "data": {
      "text/plain": [
       "'aluminium bottle' (amount, None, None)"
      ]
     },
     "execution_count": 32,
     "metadata": {},
     "output_type": "execute_result"
    }
   ],
   "source": [
    "bottle_production_S = get_activity(('bottle example database S', 'aluminium bottle production'))\n",
    "bottle_production_S"
   ]
  },
  {
   "cell_type": "markdown",
   "metadata": {},
   "source": [
    "Again, the LCA score for the water bottle should be the same using aggregated datasets as when using the unit process database:"
   ]
  },
  {
   "cell_type": "code",
   "execution_count": 33,
   "metadata": {
    "ExecuteTime": {
     "end_time": "2018-03-21T05:05:08.378436Z",
     "start_time": "2018-03-21T05:05:08.292702Z"
    }
   },
   "outputs": [],
   "source": [
    "# Aggregated process LCA - Bottle\n",
    "bottle_lca_S = LCA({bottle_production_S:1}, method=cc_method)\n",
    "bottle_lca_S.lci()\n",
    "bottle_lca_S.lcia()\n",
    "bottle_lca_S_cc_score = bottle_lca_S.score\n",
    "bottle_lca_S.switch_method(o3_method)\n",
    "bottle_lca_S.lcia()\n",
    "bottle_lca_S_o3_score = bottle_lca_S.score"
   ]
  },
  {
   "cell_type": "code",
   "execution_count": 34,
   "metadata": {
    "ExecuteTime": {
     "end_time": "2018-03-21T05:05:08.386459Z",
     "start_time": "2018-03-21T05:05:08.380445Z"
    }
   },
   "outputs": [
    {
     "data": {
      "text/plain": [
       "(0.9999999899370294, 0.9999999722343805)"
      ]
     },
     "execution_count": 34,
     "metadata": {},
     "output_type": "execute_result"
    }
   ],
   "source": [
    "bottle_lca_S_cc_score/bottle_lca_UP_cc_score, bottle_lca_S_o3_score/bottle_lca_UP_o3_score "
   ]
  },
  {
   "cell_type": "markdown",
   "metadata": {},
   "source": [
    "However, uncertainty analysis cannot be done on the bottle with aggregated datasets: the LCIA scores used in the creation of the activity have no uncertainty: "
   ]
  },
  {
   "cell_type": "code",
   "execution_count": 35,
   "metadata": {
    "ExecuteTime": {
     "end_time": "2018-03-21T05:05:15.037654Z",
     "start_time": "2018-03-21T05:05:08.388465Z"
    }
   },
   "outputs": [
    {
     "name": "stderr",
     "output_type": "stream",
     "text": [
      "0%                          100%\n",
      "[##############################] | ETA: 00:00:00\n",
      "Total time elapsed: 00:00:06\n"
     ]
    },
    {
     "data": {
      "text/plain": [
       "array([ 0.31352267,  0.31352267,  0.31352267, ...,  0.31352267,\n",
       "        0.31352267,  0.31352267])"
      ]
     },
     "execution_count": 35,
     "metadata": {},
     "output_type": "execute_result"
    }
   ],
   "source": [
    "mc_bottle_cc_S = MonteCarloLCA({bottle_production_S:1}, method=cc_method)\n",
    "scores_bottle_cc_S = [next(mc_bottle_cc_S) for _ in pyprind.prog_bar(range(iterations))]\n",
    "scores_arr_bottle_cc_S = np.array(scores_bottle_cc_S)\n",
    "scores_arr_bottle_cc_S"
   ]
  },
  {
   "cell_type": "code",
   "execution_count": 53,
   "metadata": {
    "ExecuteTime": {
     "end_time": "2018-03-21T05:26:52.883219Z",
     "start_time": "2018-03-21T05:26:52.764446Z"
    }
   },
   "outputs": [
    {
     "data": {
      "image/png": "[encoded data removed]",
      "text/plain": [
       "<matplotlib.figure.Figure at 0x17e6cc31710>"
      ]
     },
     "metadata": {},
     "output_type": "display_data"
    }
   ],
   "source": [
    "# CC\n",
    "plt.hist(scores_arr_bottle_cc_S, histtype='step', normed=True, bins=100)\n",
    "plt.xlabel(\"{}/bottle\".format(Method(cc_method).metadata['unit']))\n",
    "plt.ylabel(\"Frequency\")\n",
    "plt.legend()\n",
    "plt.title(\"Monte Carlo results\\n{}\\nAggregated datasets\".format(cc_method));"
   ]
  },
  {
   "cell_type": "markdown",
   "metadata": {},
   "source": [
    "## Presamples"
   ]
  },
  {
   "cell_type": "markdown",
   "metadata": {},
   "source": [
    "The precalculated arrays can be integrated in the LCA calculations by using the `presamples` library (see repo [here](https://github.com/PascalLesage/brightway2-presamples/tree/master)). It was codeveloped by Pascal Lesage (CIRAIG) and Chris Mutel (PSI, main developer of the Brightway2 Framework) as a means to integrate precalculated samples directly in LCA. It has many other applications, but the core motivation at the start was to be able to incude the results of arrays such as those generated by `database_wide_monte_carlo`."
   ]
  },
  {
   "cell_type": "markdown",
   "metadata": {},
   "source": [
    "As of March 20, 2018, the `presamples` package can be installed directly using pip. In the conda environment where `Brightway2` is installed, simply type `pip install presamples`. \n",
    "\n",
    "They can then be imported:"
   ]
  },
  {
   "cell_type": "code",
   "execution_count": 37,
   "metadata": {
    "ExecuteTime": {
     "end_time": "2018-03-21T05:05:15.192825Z",
     "start_time": "2018-03-21T05:05:15.180786Z"
    }
   },
   "outputs": [],
   "source": [
    "import presamples as ps"
   ]
  },
  {
   "cell_type": "markdown",
   "metadata": {},
   "source": [
    "To use the precalculated presamples in LCA, follow the following steps:"
   ]
  },
  {
   "cell_type": "markdown",
   "metadata": {},
   "source": [
    "### Generate the matrix_data"
   ]
  },
  {
   "cell_type": "markdown",
   "metadata": {},
   "source": [
    "Precalculated samples for use in LCA matrices need to be organized in a list of `(samples, indices, matrix label)`.\n",
    "\n",
    "* `samples` are a two-dimensional Numpy array, where each row contains values for a specific matrix element that will be replaced and each column contains values for a given realization of the LCA model.\n",
    "* `indices` is an iterable with row and (usually) column indices. The *ith* element of `indices` refers to the *ith* row of the `samples`. The indices of elements of the $\\mathbf{A}$ and $\\mathbf{B}$ matrices have the format `[(input id, output id, type)]`. The ``type`` is an exchange type, i.e. one of \"production\", \"technosphere\", \"biosphere\", or \"substitution\".\n",
    "*  `matrix label` is a string giving the name of the matrix to be modified in the LCA class. This string is normally, but not necessarily, one of `('technosphere', 'biosphere', 'cf')`.\n",
    "\n",
    "In the case of our aggregated LCIA scores, we have four matrix elements for which we want use precalculated:  \n",
    "* Climate change scores for the aluminium aggregated activity    \n",
    "* Climate change scores for the extrusion aggregated activity    \n",
    "* Ozone layer depletion scores for the aluminium aggregated activity    \n",
    "* Ozone layer depletion scores for the extrusion aggregated activity    "
   ]
  },
  {
   "cell_type": "markdown",
   "metadata": {},
   "source": [
    "#### Samples  \n",
    "The samples are basically the four calculated LCIA arrays horizontally stacked, leading to an array of shape (4, 5000).  \n",
    "Here is how to get them:"
   ]
  },
  {
   "cell_type": "code",
   "execution_count": 38,
   "metadata": {
    "ExecuteTime": {
     "end_time": "2018-03-21T05:05:15.215885Z",
     "start_time": "2018-03-21T05:05:15.196831Z"
    }
   },
   "outputs": [],
   "source": [
    "# Directory with LCIA scores\n",
    "lcia_fp = r'c:/mypy/data/my_mcs/db/results/LCIA'\n",
    "\n",
    "# The subdirectory name is the abbreviation of the LCIA method\n",
    "# The file name is the code of the activity (i.e. the second element of the activity's key)\n",
    "# To generate a single array, as described above:\n",
    "\n",
    "# Generate a list of arrays\n",
    "arrays_list = [np.load(os.path.join(lcia_fp, Method(m).get_abbreviation(), act.key[1]+'.npy'))\n",
    "              for  act in [aluminium_S, extrusion_S]\n",
    "              for m in [cc_method, o3_method]\n",
    "              ]\n",
    "# Reshape arrays from (5000,) to (5000, 1) \n",
    "arrays_list = [arr.reshape(-1, 1) for arr in arrays_list]\n",
    "\n",
    "# Stack the arrays\n",
    "samples = np.hstack(arrays_list)\n",
    "\n",
    "# Transpose from a (5000,4) array to a (4, 5000) array\n",
    "samples = samples.T"
   ]
  },
  {
   "cell_type": "code",
   "execution_count": 39,
   "metadata": {
    "ExecuteTime": {
     "end_time": "2018-03-21T05:05:15.236970Z",
     "start_time": "2018-03-21T05:05:15.221900Z"
    }
   },
   "outputs": [
    {
     "data": {
      "text/plain": [
       "array([[  1.12598808e+00,   1.19107325e+00,   1.16119797e+00, ...,\n",
       "          1.07931717e+00,   1.25014010e+00,   1.18317415e+00],\n",
       "       [  7.30755270e-08,   1.03364491e-07,   7.67967139e-08, ...,\n",
       "          8.98991157e-08,   1.21543735e-07,   8.31902434e-08],\n",
       "       [  1.08553357e+00,   1.07559776e+00,   1.16737192e+00, ...,\n",
       "          1.27067617e+00,   1.20333520e+00,   1.25096477e+00],\n",
       "       [  7.26152234e-08,   9.50454007e-08,   6.10345342e-08, ...,\n",
       "          9.81565533e-08,   9.66410216e-08,   8.50814043e-08]])"
      ]
     },
     "execution_count": 39,
     "metadata": {},
     "output_type": "execute_result"
    }
   ],
   "source": [
    "samples"
   ]
  },
  {
   "cell_type": "code",
   "execution_count": 40,
   "metadata": {
    "ExecuteTime": {
     "end_time": "2018-03-21T05:05:15.256061Z",
     "start_time": "2018-03-21T05:05:15.238940Z"
    }
   },
   "outputs": [
    {
     "data": {
      "text/plain": [
       "(4, 5000)"
      ]
     },
     "execution_count": 40,
     "metadata": {},
     "output_type": "execute_result"
    }
   ],
   "source": [
    "samples.shape"
   ]
  },
  {
   "cell_type": "markdown",
   "metadata": {},
   "source": [
    "#### Indices  \n",
    "The indices refer to our four \"unit impact\" flows that we use to store LCIA results. Here is how to generate them:"
   ]
  },
  {
   "cell_type": "code",
   "execution_count": 41,
   "metadata": {
    "ExecuteTime": {
     "end_time": "2018-03-21T05:05:15.273076Z",
     "start_time": "2018-03-21T05:05:15.259033Z"
    }
   },
   "outputs": [
    {
     "data": {
      "text/plain": [
       "array([[  1.12598808e+00,   1.19107325e+00,   1.16119797e+00, ...,\n",
       "          1.07931717e+00,   1.25014010e+00,   1.18317415e+00],\n",
       "       [  7.30755270e-08,   1.03364491e-07,   7.67967139e-08, ...,\n",
       "          8.98991157e-08,   1.21543735e-07,   8.31902434e-08],\n",
       "       [  1.08553357e+00,   1.07559776e+00,   1.16737192e+00, ...,\n",
       "          1.27067617e+00,   1.20333520e+00,   1.25096477e+00],\n",
       "       [  7.26152234e-08,   9.50454007e-08,   6.10345342e-08, ...,\n",
       "          9.81565533e-08,   9.66410216e-08,   8.50814043e-08]])"
      ]
     },
     "execution_count": 41,
     "metadata": {},
     "output_type": "execute_result"
    }
   ],
   "source": [
    "samples"
   ]
  },
  {
   "cell_type": "code",
   "execution_count": 42,
   "metadata": {
    "ExecuteTime": {
     "end_time": "2018-03-21T05:05:15.301151Z",
     "start_time": "2018-03-21T05:05:15.275087Z"
    }
   },
   "outputs": [
    {
     "data": {
      "text/plain": [
       "[(('biosphere3', 'ipcc-2013cg.bd5af3f67229a1cc291b8ecb7f316fcf'),\n",
       "  ('bd_S', '752f34fa1a0c7a9c7b2b5d8d52c940e8'),\n",
       "  'biosphere'),\n",
       " (('biosphere3',\n",
       "   'ilcd-108-2016-midpoint-no-ltho.3039615a2eeeb07c0a5dbc9266b013db'),\n",
       "  ('bd_S', '752f34fa1a0c7a9c7b2b5d8d52c940e8'),\n",
       "  'biosphere'),\n",
       " (('biosphere3', 'ipcc-2013cg.bd5af3f67229a1cc291b8ecb7f316fcf'),\n",
       "  ('bd_S', 'f3986f0a13837b31a3130fc4fecc617a'),\n",
       "  'biosphere'),\n",
       " (('biosphere3',\n",
       "   'ilcd-108-2016-midpoint-no-ltho.3039615a2eeeb07c0a5dbc9266b013db'),\n",
       "  ('bd_S', 'f3986f0a13837b31a3130fc4fecc617a'),\n",
       "  'biosphere')]"
      ]
     },
     "execution_count": 42,
     "metadata": {},
     "output_type": "execute_result"
    }
   ],
   "source": [
    "# The subdirectory name is the abbreviation of the LCIA method\n",
    "# The file name is the code of the activity (i.e. the second element of the activity's key)\n",
    "# To generate a single array, as described above:\n",
    "indices = []\n",
    "for act in [aluminium_S, extrusion_S]:\n",
    "    for m in [cc_method, o3_method]:\n",
    "        indices.append(\n",
    "            (\n",
    "                ('biosphere3', Method(m).get_abbreviation()),\n",
    "                act.key,\n",
    "                'biosphere'\n",
    "            )\n",
    "        )\n",
    "indices"
   ]
  },
  {
   "cell_type": "markdown",
   "metadata": {},
   "source": [
    "The label is `'biosphere'`, since our aggregated LCIA scores have been converted to elementary flows: "
   ]
  },
  {
   "cell_type": "code",
   "execution_count": 43,
   "metadata": {
    "ExecuteTime": {
     "end_time": "2018-03-21T05:05:15.315190Z",
     "start_time": "2018-03-21T05:05:15.304157Z"
    },
    "collapsed": true
   },
   "outputs": [],
   "source": [
    "label = 'biosphere'"
   ]
  },
  {
   "cell_type": "code",
   "execution_count": 44,
   "metadata": {
    "ExecuteTime": {
     "end_time": "2018-03-21T05:05:15.332235Z",
     "start_time": "2018-03-21T05:05:15.322207Z"
    },
    "collapsed": true
   },
   "outputs": [],
   "source": [
    "agg_matrix_data = [(samples, indices, label)]"
   ]
  },
  {
   "cell_type": "markdown",
   "metadata": {},
   "source": [
    "### Creating a presamples package"
   ]
  },
  {
   "cell_type": "markdown",
   "metadata": {},
   "source": [
    "The formatted data can now be used to create a presamples package. This stores the data in the Brightway project folder and allows it to be efficiently retrieved on demand, notably during LCA.  \n",
    "The function returns an id and the filepath where the presamples package is saved."
   ]
  },
  {
   "cell_type": "code",
   "execution_count": 45,
   "metadata": {
    "ExecuteTime": {
     "end_time": "2018-03-21T05:05:15.374123Z",
     "start_time": "2018-03-21T05:05:15.335247Z"
    },
    "collapsed": true
   },
   "outputs": [],
   "source": [
    "ps_id, ps_fp = ps.create_presamples_package(matrix_data=agg_matrix_data)"
   ]
  },
  {
   "cell_type": "code",
   "execution_count": 46,
   "metadata": {
    "ExecuteTime": {
     "end_time": "2018-03-21T05:05:15.383148Z",
     "start_time": "2018-03-21T05:05:15.376134Z"
    }
   },
   "outputs": [
    {
     "data": {
      "text/plain": [
       "WindowsPath('C:/Users/Pascal Lesage/AppData/Local/pylca/Brightway3/my_mcs_agg.dc1afbf1e98660c6480e2b06c615ade3/presamples/8ddce3848a4d45138e1321c246c3360d')"
      ]
     },
     "execution_count": 46,
     "metadata": {},
     "output_type": "execute_result"
    }
   ],
   "source": [
    "ps_fp"
   ]
  },
  {
   "cell_type": "markdown",
   "metadata": {},
   "source": [
    "### Using the presamples package"
   ]
  },
  {
   "cell_type": "markdown",
   "metadata": {},
   "source": [
    "To use the precalculated samples directly in a `MonteCarloLCA`, simply pass the presamples package filepath as an argument. One can pass a list of such filepaths, but in our case we just have 1. The values for the matrix elements specified in the indices are replaced on each iteration by a random sample from our sample array (all taken from the same column).  \n",
    "To pass the samples in order, the argument `seed=sequential` should have been passed when creating the presamples package."
   ]
  },
  {
   "cell_type": "markdown",
   "metadata": {},
   "source": [
    "Notice the speed!"
   ]
  },
  {
   "cell_type": "code",
   "execution_count": 47,
   "metadata": {
    "ExecuteTime": {
     "end_time": "2018-03-21T05:05:23.144441Z",
     "start_time": "2018-03-21T05:05:15.386157Z"
    }
   },
   "outputs": [
    {
     "name": "stderr",
     "output_type": "stream",
     "text": [
      "0%                          100%\n",
      "[##############################] | ETA: 00:00:00\n",
      "Total time elapsed: 00:00:07\n"
     ]
    },
    {
     "data": {
      "text/plain": [
       "array([ 0.36562162,  0.34342905,  0.28846223, ...,  0.35133616,\n",
       "        0.34493964,  0.34548213])"
      ]
     },
     "execution_count": 47,
     "metadata": {},
     "output_type": "execute_result"
    }
   ],
   "source": [
    "mc_bottle_cc_ps = MonteCarloLCA(\n",
    "    {bottle_production_S:1},\n",
    "    method=cc_method,\n",
    "    presamples=[ps_fp]\n",
    ")\n",
    "scores_bottle_cc_ps = [next(mc_bottle_cc_ps) for _ in pyprind.prog_bar(range(iterations))]\n",
    "scores_arr_bottle_cc_ps = np.array(scores_bottle_cc_ps)\n",
    "scores_arr_bottle_cc_ps"
   ]
  },
  {
   "cell_type": "code",
   "execution_count": 48,
   "metadata": {
    "ExecuteTime": {
     "end_time": "2018-03-21T05:05:30.902045Z",
     "start_time": "2018-03-21T05:05:23.146411Z"
    }
   },
   "outputs": [
    {
     "name": "stderr",
     "output_type": "stream",
     "text": [
      "0%                          100%\n",
      "[##############################] | ETA: 00:00:00\n",
      "Total time elapsed: 00:00:07\n"
     ]
    },
    {
     "data": {
      "text/plain": [
       "array([  2.22330078e-08,   1.86214634e-08,   2.15619042e-08, ...,\n",
       "         2.37445899e-08,   2.66586824e-08,   1.81934170e-08])"
      ]
     },
     "execution_count": 48,
     "metadata": {},
     "output_type": "execute_result"
    }
   ],
   "source": [
    "mc_bottle_o3_ps = MonteCarloLCA(\n",
    "    {bottle_production_S:1},\n",
    "    method=o3_method,\n",
    "    presamples=[ps_fp]\n",
    ")\n",
    "scores_bottle_o3_ps = [next(mc_bottle_o3_ps) for _ in pyprind.prog_bar(range(iterations))]\n",
    "scores_arr_bottle_o3_ps = np.array(scores_bottle_o3_ps)\n",
    "scores_arr_bottle_o3_ps"
   ]
  },
  {
   "cell_type": "markdown",
   "metadata": {},
   "source": [
    "The results can be plotted along with those obtained with the Monte Carlo analysis using unit processes."
   ]
  },
  {
   "cell_type": "code",
   "execution_count": 54,
   "metadata": {
    "ExecuteTime": {
     "end_time": "2018-03-21T05:27:21.503581Z",
     "start_time": "2018-03-21T05:27:21.358016Z"
    }
   },
   "outputs": [
    {
     "data": {
      "image/png": "[encoded data removed]",
      "text/plain": [
       "<matplotlib.figure.Figure at 0x17e771cf198>"
      ]
     },
     "metadata": {},
     "output_type": "display_data"
    }
   ],
   "source": [
    "# CC\n",
    "plt.hist(scores_arr_bottle_cc_UP, histtype='step', normed=True, label=\"Unit process\", bins=100)\n",
    "plt.hist(scores_arr_bottle_cc_ps, histtype='step', normed=True, label=\"Aggregated with presamples\", bins=100)\n",
    "plt.xlabel(\"{}/bottle\".format(Method(cc_method).metadata['unit']))\n",
    "plt.ylabel(\"Frequency\")\n",
    "plt.legend()\n",
    "plt.title(\"Monte Carlo results\\n{}\\nAggregated datasets\".format(cc_method));"
   ]
  },
  {
   "cell_type": "code",
   "execution_count": 55,
   "metadata": {
    "ExecuteTime": {
     "end_time": "2018-03-21T05:27:34.119115Z",
     "start_time": "2018-03-21T05:27:33.977186Z"
    }
   },
   "outputs": [
    {
     "data": {
      "image/png": "[encoded data removed]",
      "text/plain": [
       "<matplotlib.figure.Figure at 0x17e611667f0>"
      ]
     },
     "metadata": {},
     "output_type": "display_data"
    }
   ],
   "source": [
    "# o3\n",
    "plt.hist(scores_arr_bottle_o3_UP, histtype='step', normed=True, label=\"Unit process\", bins=100)\n",
    "plt.hist(scores_arr_bottle_o3_ps, histtype='step', normed=True, label=\"Aggregated with presamples\", bins=100)\n",
    "plt.xlabel(\"{}/bottle\".format(Method(o3_method).metadata['unit']))\n",
    "plt.ylabel(\"Frequency\")\n",
    "plt.legend()\n",
    "plt.title(\"Monte Carlo results\\n{}\\nAggregated datasets\".format(o3_method));"
   ]
  }
 ],
 "metadata": {
  "kernelspec": {
   "display_name": "Python 3.9.12 ('bw2_seminar')",
   "language": "python",
   "name": "python3"
  },
  "language_info": {
   "codemirror_mode": {
    "name": "ipython",
    "version": 3
   },
   "file_extension": ".py",
   "mimetype": "text/x-python",
   "name": "python",
   "nbconvert_exporter": "python",
   "pygments_lexer": "ipython3",
   "version": "3.9.12"
  },
  "toc": {
   "nav_menu": {},
   "number_sections": true,
   "sideBar": true,
   "skip_h1_title": true,
   "title_cell": "Table of Contents",
   "title_sidebar": "Contents",
   "toc_cell": false,
   "toc_position": {},
   "toc_section_display": true,
   "toc_window_display": true
  },
  "varInspector": {
   "cols": {
    "lenName": 16,
    "lenType": 16,
    "lenVar": 40
   },
   "kernels_config": {
    "python": {
     "delete_cmd_postfix": "",
     "delete_cmd_prefix": "del ",
     "library": "var_list.py",
     "varRefreshCmd": "print(var_dic_list())"
    },
    "r": {
     "delete_cmd_postfix": ") ",
     "delete_cmd_prefix": "rm(",
     "library": "var_list.r",
     "varRefreshCmd": "cat(var_dic_list()) "
    }
   },
   "types_to_exclude": [
    "module",
    "function",
    "builtin_function_or_method",
    "instance",
    "_Feature"
   ],
   "window_display": false
  },
  "vscode": {
   "interpreter": {
    "hash": "41508b4742ddc2017e6637e88a6932cf6fb812d2890a5a25c795484146a045bd"
   }
  },
  "widgets": {
   "state": {},
   "version": "1.1.2"
  }
 },
 "nbformat": 4,
 "nbformat_minor": 1
}
